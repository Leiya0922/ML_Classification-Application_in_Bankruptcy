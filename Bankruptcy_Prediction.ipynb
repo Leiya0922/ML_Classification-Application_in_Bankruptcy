{
 "cells": [
  {
   "cell_type": "markdown",
   "metadata": {},
   "source": [
    "# Problem description\n",
    "\n",
    "You are to predict whether a company will go bankrupt in the following year, based on financial attributes of the company.\n",
    "\n",
    "Perhaps you are contemplating lending money to a company, and need to know whether the company\n",
    "is in near-term danger of not being able to repay.\n"
   ]
  },
  {
   "cell_type": "markdown",
   "metadata": {},
   "source": [
    "## Goal"
   ]
  },
  {
   "cell_type": "markdown",
   "metadata": {
    "slideshow": {
     "slide_type": "fragment"
    }
   },
   "source": [
    "## Learning objectives\n",
    "\n",
    "- Demonstrate mastery on solving a classification problem and presenting\n",
    "the entire Recipe for Machine Learning process in a notebook.\n",
    "- We will make suggestions for ways to approach the problem\n",
    "    - But there will be little explicit direction for this task.\n",
    "- It is meant to be analogous to a pre-interview task that a potential employer might assign\n",
    "to verify your skill"
   ]
  },
  {
   "cell_type": "markdown",
   "metadata": {},
   "source": [
    "# Import modules"
   ]
  },
  {
   "cell_type": "code",
   "execution_count": 1,
   "metadata": {},
   "outputs": [],
   "source": [
    "## Standard imports\n",
    "import numpy as np\n",
    "import pandas as pd\n",
    "import matplotlib.pyplot as plt\n",
    "\n",
    "import sklearn\n",
    "\n",
    "import os\n",
    "import math\n",
    "\n",
    "%matplotlib inline\n",
    "\n",
    "## import performance metrics\n",
    "from sklearn.metrics import  accuracy_score, precision_score, f1_score, recall_score\n",
    "\n",
    "## import classifier\n",
    "from sklearn.dummy import DummyClassifier\n",
    "from sklearn.linear_model import LogisticRegression\n",
    "from sklearn.ensemble import AdaBoostClassifier\n",
    "from sklearn.ensemble import GradientBoostingClassifier\n",
    "from sklearn.ensemble import RandomForestClassifier\n",
    "from sklearn.naive_bayes import GaussianNB\n",
    "from sklearn.svm import SVC\n",
    "\n",
    "import warnings\n",
    "warnings.filterwarnings(action=\"ignore\")"
   ]
  },
  {
   "cell_type": "markdown",
   "metadata": {},
   "source": [
    "# API for students"
   ]
  },
  {
   "cell_type": "code",
   "execution_count": 2,
   "metadata": {},
   "outputs": [],
   "source": [
    "## Load the bankruptcy_helper module\n",
    "\n",
    "from IPython.core.interactiveshell import InteractiveShell\n",
    "InteractiveShell.ast_node_interactivity = \"all\"\n",
    "\n",
    "# Reload all modules imported with %aimport\n",
    "%load_ext autoreload\n",
    "%autoreload 1\n",
    "\n",
    "# Import bankruptcy_helper module\n",
    "import bankruptcy_helper\n",
    "%aimport bankruptcy_helper\n",
    "\n",
    "helper = bankruptcy_helper.Helper()"
   ]
  },
  {
   "cell_type": "markdown",
   "metadata": {},
   "source": [
    "# Get the data\n",
    "\n",
    "The first step in our Recipe is Get the Data.\n",
    "\n",
    "- Each example is a row of data corresponding to a single company\n",
    "- There are 64 attributes, described in the section below\n",
    "- The column `Bankrupt` is 1 if the company subsequently went bankrupt; 0 if it did not go bankrupt\n",
    "- The column `Id` is a Company Identifier"
   ]
  },
  {
   "cell_type": "code",
   "execution_count": 3,
   "metadata": {},
   "outputs": [
    {
     "name": "stdout",
     "output_type": "stream",
     "text": [
      "Date shape:  (4818, 66)\n"
     ]
    }
   ],
   "source": [
    "# Data directory\n",
    "DATA_DIR = \"./Data\"\n",
    "\n",
    "if not os.path.isdir(DATA_DIR):\n",
    "    DATA_DIR = \"../resource/asnlib/publicdata/bankruptcy/data\"\n",
    "\n",
    "data_file = \"5th_yr.csv\"\n",
    "data = pd.read_csv( os.path.join(DATA_DIR, \"train\", data_file) )\n",
    "\n",
    "target_attr = \"Bankrupt\"\n",
    "\n",
    "n_samples, n_attrs = data.shape\n",
    "print(\"Date shape: \", data.shape)"
   ]
  },
  {
   "cell_type": "markdown",
   "metadata": {},
   "source": [
    "## Have a look at the data\n",
    "\n",
    "We will not go through all steps in the Recipe, nor in depth.\n",
    "\n",
    "But here's a peek"
   ]
  },
  {
   "cell_type": "code",
   "execution_count": 4,
   "metadata": {},
   "outputs": [
    {
     "data": {
      "text/html": [
       "<div>\n",
       "<style scoped>\n",
       "    .dataframe tbody tr th:only-of-type {\n",
       "        vertical-align: middle;\n",
       "    }\n",
       "\n",
       "    .dataframe tbody tr th {\n",
       "        vertical-align: top;\n",
       "    }\n",
       "\n",
       "    .dataframe thead th {\n",
       "        text-align: right;\n",
       "    }\n",
       "</style>\n",
       "<table border=\"1\" class=\"dataframe\">\n",
       "  <thead>\n",
       "    <tr style=\"text-align: right;\">\n",
       "      <th></th>\n",
       "      <th>X1</th>\n",
       "      <th>X2</th>\n",
       "      <th>X3</th>\n",
       "      <th>X4</th>\n",
       "      <th>X5</th>\n",
       "      <th>X6</th>\n",
       "      <th>X7</th>\n",
       "      <th>X8</th>\n",
       "      <th>X9</th>\n",
       "      <th>X10</th>\n",
       "      <th>...</th>\n",
       "      <th>X57</th>\n",
       "      <th>X58</th>\n",
       "      <th>X59</th>\n",
       "      <th>X60</th>\n",
       "      <th>X61</th>\n",
       "      <th>X62</th>\n",
       "      <th>X63</th>\n",
       "      <th>X64</th>\n",
       "      <th>Bankrupt</th>\n",
       "      <th>Id</th>\n",
       "    </tr>\n",
       "  </thead>\n",
       "  <tbody>\n",
       "    <tr>\n",
       "      <th>0</th>\n",
       "      <td>0.025417</td>\n",
       "      <td>0.41769</td>\n",
       "      <td>0.0568</td>\n",
       "      <td>1.1605</td>\n",
       "      <td>-126.39</td>\n",
       "      <td>0.41355</td>\n",
       "      <td>0.025417</td>\n",
       "      <td>1.2395</td>\n",
       "      <td>1.16500</td>\n",
       "      <td>0.51773</td>\n",
       "      <td>...</td>\n",
       "      <td>0.049094</td>\n",
       "      <td>0.85835</td>\n",
       "      <td>0.12322</td>\n",
       "      <td>5.6167</td>\n",
       "      <td>7.4042</td>\n",
       "      <td>164.310</td>\n",
       "      <td>2.2214</td>\n",
       "      <td>1.334</td>\n",
       "      <td>0</td>\n",
       "      <td>4510</td>\n",
       "    </tr>\n",
       "    <tr>\n",
       "      <th>1</th>\n",
       "      <td>-0.023834</td>\n",
       "      <td>0.2101</td>\n",
       "      <td>0.50839</td>\n",
       "      <td>4.2374</td>\n",
       "      <td>22.034</td>\n",
       "      <td>0.058412</td>\n",
       "      <td>-0.027621</td>\n",
       "      <td>3.6579</td>\n",
       "      <td>0.98183</td>\n",
       "      <td>0.76855</td>\n",
       "      <td>...</td>\n",
       "      <td>-0.031011</td>\n",
       "      <td>1.01850</td>\n",
       "      <td>0.069047</td>\n",
       "      <td>5.7996</td>\n",
       "      <td>7.7529</td>\n",
       "      <td>26.446</td>\n",
       "      <td>13.802</td>\n",
       "      <td>6.4782</td>\n",
       "      <td>0</td>\n",
       "      <td>3537</td>\n",
       "    </tr>\n",
       "    <tr>\n",
       "      <th>2</th>\n",
       "      <td>0.030515</td>\n",
       "      <td>0.44606</td>\n",
       "      <td>0.19569</td>\n",
       "      <td>1.565</td>\n",
       "      <td>35.766</td>\n",
       "      <td>0.28196</td>\n",
       "      <td>0.039264</td>\n",
       "      <td>0.88456</td>\n",
       "      <td>1.05260</td>\n",
       "      <td>0.39457</td>\n",
       "      <td>...</td>\n",
       "      <td>0.077337</td>\n",
       "      <td>0.95006</td>\n",
       "      <td>0.25266</td>\n",
       "      <td>15.049</td>\n",
       "      <td>2.8179</td>\n",
       "      <td>104.730</td>\n",
       "      <td>3.4852</td>\n",
       "      <td>2.6361</td>\n",
       "      <td>0</td>\n",
       "      <td>3920</td>\n",
       "    </tr>\n",
       "    <tr>\n",
       "      <th>3</th>\n",
       "      <td>0.052318</td>\n",
       "      <td>0.056366</td>\n",
       "      <td>0.54562</td>\n",
       "      <td>10.68</td>\n",
       "      <td>438.2</td>\n",
       "      <td>0.13649</td>\n",
       "      <td>0.058164</td>\n",
       "      <td>10.853</td>\n",
       "      <td>1.02790</td>\n",
       "      <td>0.61173</td>\n",
       "      <td>...</td>\n",
       "      <td>0.085524</td>\n",
       "      <td>0.97282</td>\n",
       "      <td>0</td>\n",
       "      <td>6.0157</td>\n",
       "      <td>7.4626</td>\n",
       "      <td>48.756</td>\n",
       "      <td>7.4863</td>\n",
       "      <td>1.0602</td>\n",
       "      <td>0</td>\n",
       "      <td>1806</td>\n",
       "    </tr>\n",
       "    <tr>\n",
       "      <th>4</th>\n",
       "      <td>0.000992</td>\n",
       "      <td>0.49712</td>\n",
       "      <td>0.12316</td>\n",
       "      <td>1.3036</td>\n",
       "      <td>-71.398</td>\n",
       "      <td>0</td>\n",
       "      <td>0.001007</td>\n",
       "      <td>1.0116</td>\n",
       "      <td>1.29210</td>\n",
       "      <td>0.50288</td>\n",
       "      <td>...</td>\n",
       "      <td>0.001974</td>\n",
       "      <td>0.99925</td>\n",
       "      <td>0.019736</td>\n",
       "      <td>3.4819</td>\n",
       "      <td>8.582</td>\n",
       "      <td>114.580</td>\n",
       "      <td>3.1854</td>\n",
       "      <td>2.742</td>\n",
       "      <td>0</td>\n",
       "      <td>1529</td>\n",
       "    </tr>\n",
       "  </tbody>\n",
       "</table>\n",
       "<p>5 rows × 66 columns</p>\n",
       "</div>"
      ],
      "text/plain": [
       "          X1        X2       X3      X4       X5        X6         X7  \\\n",
       "0   0.025417   0.41769   0.0568  1.1605  -126.39   0.41355   0.025417   \n",
       "1  -0.023834    0.2101  0.50839  4.2374   22.034  0.058412  -0.027621   \n",
       "2   0.030515   0.44606  0.19569   1.565   35.766   0.28196   0.039264   \n",
       "3   0.052318  0.056366  0.54562   10.68    438.2   0.13649   0.058164   \n",
       "4   0.000992   0.49712  0.12316  1.3036  -71.398         0   0.001007   \n",
       "\n",
       "        X8       X9      X10  ...        X57      X58       X59     X60  \\\n",
       "0   1.2395  1.16500  0.51773  ...   0.049094  0.85835   0.12322  5.6167   \n",
       "1   3.6579  0.98183  0.76855  ...  -0.031011  1.01850  0.069047  5.7996   \n",
       "2  0.88456  1.05260  0.39457  ...   0.077337  0.95006   0.25266  15.049   \n",
       "3   10.853  1.02790  0.61173  ...   0.085524  0.97282         0  6.0157   \n",
       "4   1.0116  1.29210  0.50288  ...   0.001974  0.99925  0.019736  3.4819   \n",
       "\n",
       "      X61      X62     X63     X64  Bankrupt    Id  \n",
       "0  7.4042  164.310  2.2214   1.334         0  4510  \n",
       "1  7.7529   26.446  13.802  6.4782         0  3537  \n",
       "2  2.8179  104.730  3.4852  2.6361         0  3920  \n",
       "3  7.4626   48.756  7.4863  1.0602         0  1806  \n",
       "4   8.582  114.580  3.1854   2.742         0  1529  \n",
       "\n",
       "[5 rows x 66 columns]"
      ]
     },
     "execution_count": 4,
     "metadata": {},
     "output_type": "execute_result"
    }
   ],
   "source": [
    "data.head()"
   ]
  },
  {
   "cell_type": "markdown",
   "metadata": {},
   "source": [
    "Pretty *unhelpful* !\n",
    "\n",
    "What are these mysteriously named features ?\n",
    "\n",
    "## Description of attributes"
   ]
  },
  {
   "cell_type": "raw",
   "metadata": {},
   "source": [
    "Attribute Information:\n",
    "\n",
    "Id Company Identifier \n",
    "X1 net profit / total assets\n",
    "X2 total liabilities / total assets\n",
    "X3 working capital / total assets\n",
    "X4 current assets / short-term liabilities\n",
    "X5 [(cash + short-term securities + receivables - short-term liabilities) / (operating expenses - depreciation)] * 365\n",
    "X6 retained earnings / total assets\n",
    "X7 EBIT / total assets\n",
    "X8 book value of equity / total liabilities\n",
    "X9 sales / total assets\n",
    "X10 equity / total assets\n",
    "X11 (gross profit + extraordinary items + financial expenses) / total assets\n",
    "X12 gross profit / short-term liabilities\n",
    "X13 (gross profit + depreciation) / sales\n",
    "X14 (gross profit + interest) / total assets\n",
    "X15 (total liabilities * 365) / (gross profit + depreciation)\n",
    "X16 (gross profit + depreciation) / total liabilities\n",
    "X17 total assets / total liabilities\n",
    "X18 gross profit / total assets\n",
    "X19 gross profit / sales\n",
    "X20 (inventory * 365) / sales\n",
    "X21 sales (n) / sales (n-1)\n",
    "X22 profit on operating activities / total assets\n",
    "X23 net profit / sales\n",
    "X24 gross profit (in 3 years) / total assets\n",
    "X25 (equity - share capital) / total assets\n",
    "X26 (net profit + depreciation) / total liabilities\n",
    "X27 profit on operating activities / financial expenses\n",
    "X28 working capital / fixed assets\n",
    "X29 logarithm of total assets\n",
    "X30 (total liabilities - cash) / sales\n",
    "X31 (gross profit + interest) / sales\n",
    "X32 (current liabilities * 365) / cost of products sold\n",
    "X33 operating expenses / short-term liabilities\n",
    "X34 operating expenses / total liabilities\n",
    "X35 profit on sales / total assets\n",
    "X36 total sales / total assets\n",
    "X37 (current assets - inventories) / long-term liabilities\n",
    "X38 constant capital / total assets\n",
    "X39 profit on sales / sales\n",
    "X40 (current assets - inventory - receivables) / short-term liabilities\n",
    "X41 total liabilities / ((profit on operating activities + depreciation) * (12/365))\n",
    "X42 profit on operating activities / sales\n",
    "X43 rotation receivables + inventory turnover in days\n",
    "X44 (receivables * 365) / sales\n",
    "X45 net profit / inventory\n",
    "X46 (current assets - inventory) / short-term liabilities\n",
    "X47 (inventory * 365) / cost of products sold\n",
    "X48 EBITDA (profit on operating activities - depreciation) / total assets\n",
    "X49 EBITDA (profit on operating activities - depreciation) / sales\n",
    "X50 current assets / total liabilities\n",
    "X51 short-term liabilities / total assets\n",
    "X52 (short-term liabilities * 365) / cost of products sold)\n",
    "X53 equity / fixed assets\n",
    "X54 constant capital / fixed assets\n",
    "X55 working capital\n",
    "X56 (sales - cost of products sold) / sales\n",
    "X57 (current assets - inventory - short-term liabilities) / (sales - gross profit - depreciation)\n",
    "X58 total costs /total sales\n",
    "X59 long-term liabilities / equity\n",
    "X60 sales / inventory\n",
    "X61 sales / receivables\n",
    "X62 (short-term liabilities *365) / sales\n",
    "X63 sales / short-term liabilities\n",
    "X64 sales / fixed assets\n"
   ]
  },
  {
   "cell_type": "markdown",
   "metadata": {},
   "source": [
    "This may still be somewhat unhelpful for those of you not used to reading Financial Statements.\n",
    "\n",
    "But that's partially the point of the exercise\n",
    "- You can *still* perform Machine Learning *even if* you are not an expert in the problem domain\n",
    "    - That's what makes this a good interview exercise: you can demonstrate your thought process even if you don't know the exact meaning of the terms\n",
    "- Of course: becoming an expert in the domain *will improve* your ability to create better models\n",
    "    - Feature engineering is easier if you understand the features, their inter-relationships, and the relationship to the target"
   ]
  },
  {
   "cell_type": "markdown",
   "metadata": {},
   "source": [
    "Let's get a feel for the data\n",
    "- What is the type of each attribute ?\n"
   ]
  },
  {
   "cell_type": "code",
   "execution_count": 5,
   "metadata": {},
   "outputs": [
    {
     "name": "stdout",
     "output_type": "stream",
     "text": [
      "<class 'pandas.core.frame.DataFrame'>\n",
      "RangeIndex: 4818 entries, 0 to 4817\n",
      "Data columns (total 66 columns):\n",
      " #   Column    Non-Null Count  Dtype  \n",
      "---  ------    --------------  -----  \n",
      " 0   X1        4818 non-null   object \n",
      " 1   X2        4818 non-null   object \n",
      " 2   X3        4818 non-null   object \n",
      " 3   X4        4818 non-null   object \n",
      " 4   X5        4818 non-null   object \n",
      " 5   X6        4818 non-null   object \n",
      " 6   X7        4818 non-null   object \n",
      " 7   X8        4818 non-null   object \n",
      " 8   X9        4818 non-null   float64\n",
      " 9   X10       4818 non-null   object \n",
      " 10  X11       4818 non-null   object \n",
      " 11  X12       4818 non-null   object \n",
      " 12  X13       4818 non-null   float64\n",
      " 13  X14       4818 non-null   object \n",
      " 14  X15       4818 non-null   object \n",
      " 15  X16       4818 non-null   object \n",
      " 16  X17       4818 non-null   object \n",
      " 17  X18       4818 non-null   object \n",
      " 18  X19       4818 non-null   float64\n",
      " 19  X20       4818 non-null   float64\n",
      " 20  X21       4818 non-null   object \n",
      " 21  X22       4818 non-null   object \n",
      " 22  X23       4818 non-null   float64\n",
      " 23  X24       4818 non-null   object \n",
      " 24  X25       4818 non-null   object \n",
      " 25  X26       4818 non-null   object \n",
      " 26  X27       4818 non-null   object \n",
      " 27  X28       4818 non-null   object \n",
      " 28  X29       4818 non-null   object \n",
      " 29  X30       4818 non-null   float64\n",
      " 30  X31       4818 non-null   float64\n",
      " 31  X32       4818 non-null   object \n",
      " 32  X33       4818 non-null   object \n",
      " 33  X34       4818 non-null   object \n",
      " 34  X35       4818 non-null   object \n",
      " 35  X36       4818 non-null   object \n",
      " 36  X37       4818 non-null   object \n",
      " 37  X38       4818 non-null   object \n",
      " 38  X39       4818 non-null   float64\n",
      " 39  X40       4818 non-null   object \n",
      " 40  X41       4818 non-null   object \n",
      " 41  X42       4818 non-null   float64\n",
      " 42  X43       4818 non-null   float64\n",
      " 43  X44       4818 non-null   float64\n",
      " 44  X45       4818 non-null   object \n",
      " 45  X46       4818 non-null   object \n",
      " 46  X47       4818 non-null   object \n",
      " 47  X48       4818 non-null   object \n",
      " 48  X49       4818 non-null   float64\n",
      " 49  X50       4818 non-null   object \n",
      " 50  X51       4818 non-null   object \n",
      " 51  X52       4818 non-null   object \n",
      " 52  X53       4818 non-null   object \n",
      " 53  X54       4818 non-null   object \n",
      " 54  X55       4818 non-null   float64\n",
      " 55  X56       4818 non-null   float64\n",
      " 56  X57       4818 non-null   object \n",
      " 57  X58       4818 non-null   float64\n",
      " 58  X59       4818 non-null   object \n",
      " 59  X60       4818 non-null   object \n",
      " 60  X61       4818 non-null   object \n",
      " 61  X62       4818 non-null   float64\n",
      " 62  X63       4818 non-null   object \n",
      " 63  X64       4818 non-null   object \n",
      " 64  Bankrupt  4818 non-null   int64  \n",
      " 65  Id        4818 non-null   int64  \n",
      "dtypes: float64(16), int64(2), object(48)\n",
      "memory usage: 2.4+ MB\n"
     ]
    }
   ],
   "source": [
    "data.info()"
   ]
  },
  {
   "cell_type": "markdown",
   "metadata": {},
   "source": [
    "You may be puzzled:\n",
    "- Most attributes are `object` and *not* numeric (`float64`)\n",
    "- But looking at the data via `data.head()` certainly gives the impression that all attributes are numeric\n",
    "\n",
    "Welcome to the world of messy data !  The dataset has represented numbers as strings.\n",
    "- These little unexpected challenges are common in the real-word\n",
    "- Data is rarely perfect and clean"
   ]
  },
  {
   "cell_type": "markdown",
   "metadata": {},
   "source": [
    "So you might want to first convert all attributes to numeric\n",
    "\n",
    "**Hint**\n",
    "- Look up the Pandas method `to_numeric`\n",
    "    - We suggest you use the option `errors='coerce'`\n",
    "    "
   ]
  },
  {
   "cell_type": "markdown",
   "metadata": {},
   "source": [
    "# Evaluating your project"
   ]
  },
  {
   "cell_type": "markdown",
   "metadata": {},
   "source": [
    "We will evaluate your submission on a test dataset that we provide\n",
    "- It has no labels, so **you** can't use it to evaluate your model, but **we** have the labels\n",
    "- We will call this evaluation dataset the \"holdout\" data\n",
    "\n",
    "Let's get it"
   ]
  },
  {
   "cell_type": "code",
   "execution_count": 6,
   "metadata": {},
   "outputs": [
    {
     "name": "stdout",
     "output_type": "stream",
     "text": [
      "Data shape:  (1092, 65)\n"
     ]
    }
   ],
   "source": [
    "holdout_data = pd.read_csv( os.path.join(DATA_DIR, \"holdout\", '5th_yr.csv') )\n",
    "\n",
    "print(\"Data shape: \", holdout_data.shape)\n"
   ]
  },
  {
   "cell_type": "markdown",
   "metadata": {},
   "source": [
    "We will evaluate your model on the holdout examples using metrics\n",
    "- Accuracy\n",
    "- Recall\n",
    "- Precision\n",
    "\n",
    "From our lecture: we may have to make a trade-off between Recall and Precision.\n",
    "\n",
    "Our evaluation of your submission will be partially based on how you made (and described) the trade-off.\n",
    "\n",
    "You may assume that it is 5 times worse to *fail to identify a company that will go bankrupt*\n",
    "than it is to fail to identify a company that won't go bankrupt."
   ]
  },
  {
   "cell_type": "markdown",
   "metadata": {},
   "source": [
    "# Your model\n",
    "\n",
    "Time for you to continue the Recipe for Machine Learning on your own.\n",
    "\n"
   ]
  },
  {
   "cell_type": "markdown",
   "metadata": {},
   "source": [
    "## What has already been done\n",
    "In the above, several steps in the Recipe have been done:\n",
    "- Our aim: predict whether a company will go bankrupt in the following year\n",
    "- Therefore, this is a classification problem\n",
    "- I first get the data and have a peek at it\n",
    "\n",
    "Then I will follow the next steps of the Recipe in below sections..."
   ]
  },
  {
   "cell_type": "markdown",
   "metadata": {},
   "source": [
    "# Define performance measure\n",
    "\n",
    "In this project, I will mainly use four performance metrics: Accuracy, Recall and Precision, F-1 score, where:\n",
    "\n",
    "$$ \n",
    "Recall = \\frac{TP}{TP + FN} \n",
    "$$\n",
    "\n",
    "$$ Precision = \\frac{TP}{TP + FP} $$\n",
    "\n",
    "$$\n",
    "\\textrm{F}_1 = { { \\textrm{TP} } \\over { \\textrm{TP} +  { { \\textrm{FN} + \\textrm{FP} }   \\over 2 } }  }\n",
    "$$\n",
    "\n",
    "Since we can assume that it is 5 times worse to fail to identify a company that will go bankrupt than it is to fail to identify a company that won't go bankrupt, the false negative is 5 times worse than the false positive. \n",
    "\n",
    "Therefore, the performance metric that I value the most in this classification problem is $\\color{red}{\\text{Recall}}$. In addition, I would like to create a new performance metric according to the context for this project as below:\n",
    "\n",
    "$$\n",
    "Metric_{New} = 5 * \\frac{FN}{Total Number} + 1 * \\frac{FP}{Total Number}\n",
    "$$"
   ]
  },
  {
   "cell_type": "markdown",
   "metadata": {},
   "source": [
    "# Create a test set"
   ]
  },
  {
   "cell_type": "code",
   "execution_count": 7,
   "metadata": {},
   "outputs": [],
   "source": [
    "# shuffle the data first \n",
    "from sklearn.utils import shuffle \n",
    "data = shuffle(data,random_state=42)"
   ]
  },
  {
   "cell_type": "code",
   "execution_count": 8,
   "metadata": {},
   "outputs": [],
   "source": [
    "data.set_index('Id',inplace=True)"
   ]
  },
  {
   "cell_type": "code",
   "execution_count": 9,
   "metadata": {},
   "outputs": [
    {
     "data": {
      "text/html": [
       "<div>\n",
       "<style scoped>\n",
       "    .dataframe tbody tr th:only-of-type {\n",
       "        vertical-align: middle;\n",
       "    }\n",
       "\n",
       "    .dataframe tbody tr th {\n",
       "        vertical-align: top;\n",
       "    }\n",
       "\n",
       "    .dataframe thead th {\n",
       "        text-align: right;\n",
       "    }\n",
       "</style>\n",
       "<table border=\"1\" class=\"dataframe\">\n",
       "  <thead>\n",
       "    <tr style=\"text-align: right;\">\n",
       "      <th></th>\n",
       "      <th>X1</th>\n",
       "      <th>X2</th>\n",
       "      <th>X3</th>\n",
       "      <th>X4</th>\n",
       "      <th>X5</th>\n",
       "      <th>X6</th>\n",
       "      <th>X7</th>\n",
       "      <th>X8</th>\n",
       "      <th>X9</th>\n",
       "      <th>X10</th>\n",
       "      <th>...</th>\n",
       "      <th>X56</th>\n",
       "      <th>X57</th>\n",
       "      <th>X58</th>\n",
       "      <th>X59</th>\n",
       "      <th>X60</th>\n",
       "      <th>X61</th>\n",
       "      <th>X62</th>\n",
       "      <th>X63</th>\n",
       "      <th>X64</th>\n",
       "      <th>Bankrupt</th>\n",
       "    </tr>\n",
       "    <tr>\n",
       "      <th>Id</th>\n",
       "      <th></th>\n",
       "      <th></th>\n",
       "      <th></th>\n",
       "      <th></th>\n",
       "      <th></th>\n",
       "      <th></th>\n",
       "      <th></th>\n",
       "      <th></th>\n",
       "      <th></th>\n",
       "      <th></th>\n",
       "      <th></th>\n",
       "      <th></th>\n",
       "      <th></th>\n",
       "      <th></th>\n",
       "      <th></th>\n",
       "      <th></th>\n",
       "      <th></th>\n",
       "      <th></th>\n",
       "      <th></th>\n",
       "      <th></th>\n",
       "      <th></th>\n",
       "    </tr>\n",
       "  </thead>\n",
       "  <tbody>\n",
       "    <tr>\n",
       "      <th>3119</th>\n",
       "      <td>0.001173</td>\n",
       "      <td>0.67203</td>\n",
       "      <td>0.14227</td>\n",
       "      <td>1.2156</td>\n",
       "      <td>-49.408</td>\n",
       "      <td>0.016824</td>\n",
       "      <td>0.001271</td>\n",
       "      <td>0.48075</td>\n",
       "      <td>1.00740</td>\n",
       "      <td>0.32308</td>\n",
       "      <td>...</td>\n",
       "      <td>0.007312</td>\n",
       "      <td>0.003629</td>\n",
       "      <td>0.99269</td>\n",
       "      <td>0.037272</td>\n",
       "      <td>12.302</td>\n",
       "      <td>4.0442</td>\n",
       "      <td>140.440</td>\n",
       "      <td>2.5991</td>\n",
       "      <td>8.6745</td>\n",
       "      <td>0</td>\n",
       "    </tr>\n",
       "    <tr>\n",
       "      <th>3687</th>\n",
       "      <td>0.13963</td>\n",
       "      <td>0.25081</td>\n",
       "      <td>0.25848</td>\n",
       "      <td>2.2523</td>\n",
       "      <td>31.714</td>\n",
       "      <td>0</td>\n",
       "      <td>0.18239</td>\n",
       "      <td>2.9871</td>\n",
       "      <td>1.54600</td>\n",
       "      <td>0.74919</td>\n",
       "      <td>...</td>\n",
       "      <td>0.124670</td>\n",
       "      <td>0.18637</td>\n",
       "      <td>0.88279</td>\n",
       "      <td>0.044616</td>\n",
       "      <td>11.279</td>\n",
       "      <td>5.1096</td>\n",
       "      <td>48.732</td>\n",
       "      <td>7.4899</td>\n",
       "      <td>2.8891</td>\n",
       "      <td>0</td>\n",
       "    </tr>\n",
       "    <tr>\n",
       "      <th>5358</th>\n",
       "      <td>0.1476</td>\n",
       "      <td>0.097863</td>\n",
       "      <td>0.46987</td>\n",
       "      <td>6.4957</td>\n",
       "      <td>59.981</td>\n",
       "      <td>0.003564</td>\n",
       "      <td>0.18156</td>\n",
       "      <td>9.2184</td>\n",
       "      <td>1.44620</td>\n",
       "      <td>0.90214</td>\n",
       "      <td>...</td>\n",
       "      <td>0.123660</td>\n",
       "      <td>0.16362</td>\n",
       "      <td>0.87543</td>\n",
       "      <td>0</td>\n",
       "      <td>5.5314</td>\n",
       "      <td>6.8732</td>\n",
       "      <td>21.578</td>\n",
       "      <td>16.916</td>\n",
       "      <td>3.2526</td>\n",
       "      <td>0</td>\n",
       "    </tr>\n",
       "    <tr>\n",
       "      <th>3134</th>\n",
       "      <td>0.032618</td>\n",
       "      <td>0.74375</td>\n",
       "      <td>0.052153</td>\n",
       "      <td>1.1584</td>\n",
       "      <td>-49.698</td>\n",
       "      <td>0.11127</td>\n",
       "      <td>0.044782</td>\n",
       "      <td>0.33163</td>\n",
       "      <td>1.05450</td>\n",
       "      <td>0.24665</td>\n",
       "      <td>...</td>\n",
       "      <td>0.051681</td>\n",
       "      <td>0.13224</td>\n",
       "      <td>0.94832</td>\n",
       "      <td>1.6806</td>\n",
       "      <td>6.5521</td>\n",
       "      <td>33.065</td>\n",
       "      <td>59.524</td>\n",
       "      <td>6.1319</td>\n",
       "      <td>3.2633</td>\n",
       "      <td>0</td>\n",
       "    </tr>\n",
       "    <tr>\n",
       "      <th>4500</th>\n",
       "      <td>0.022155</td>\n",
       "      <td>0.54875</td>\n",
       "      <td>0.54093</td>\n",
       "      <td>2.8668</td>\n",
       "      <td>14.402</td>\n",
       "      <td>0</td>\n",
       "      <td>0.022155</td>\n",
       "      <td>0.82231</td>\n",
       "      <td>0.61232</td>\n",
       "      <td>0.45125</td>\n",
       "      <td>...</td>\n",
       "      <td>0.066985</td>\n",
       "      <td>0.049097</td>\n",
       "      <td>0.96466</td>\n",
       "      <td>0.55833</td>\n",
       "      <td>1.1969</td>\n",
       "      <td>2.5829</td>\n",
       "      <td>172.720</td>\n",
       "      <td>2.1132</td>\n",
       "      <td>3.6164</td>\n",
       "      <td>0</td>\n",
       "    </tr>\n",
       "  </tbody>\n",
       "</table>\n",
       "<p>5 rows × 65 columns</p>\n",
       "</div>"
      ],
      "text/plain": [
       "            X1        X2        X3      X4       X5        X6        X7  \\\n",
       "Id                                                                        \n",
       "3119  0.001173   0.67203   0.14227  1.2156  -49.408  0.016824  0.001271   \n",
       "3687   0.13963   0.25081   0.25848  2.2523   31.714         0   0.18239   \n",
       "5358    0.1476  0.097863   0.46987  6.4957   59.981  0.003564   0.18156   \n",
       "3134  0.032618   0.74375  0.052153  1.1584  -49.698   0.11127  0.044782   \n",
       "4500  0.022155   0.54875   0.54093  2.8668   14.402         0  0.022155   \n",
       "\n",
       "           X8       X9      X10  ...       X56       X57      X58       X59  \\\n",
       "Id                               ...                                          \n",
       "3119  0.48075  1.00740  0.32308  ...  0.007312  0.003629  0.99269  0.037272   \n",
       "3687   2.9871  1.54600  0.74919  ...  0.124670   0.18637  0.88279  0.044616   \n",
       "5358   9.2184  1.44620  0.90214  ...  0.123660   0.16362  0.87543         0   \n",
       "3134  0.33163  1.05450  0.24665  ...  0.051681   0.13224  0.94832    1.6806   \n",
       "4500  0.82231  0.61232  0.45125  ...  0.066985  0.049097  0.96466   0.55833   \n",
       "\n",
       "         X60     X61      X62     X63     X64  Bankrupt  \n",
       "Id                                                       \n",
       "3119  12.302  4.0442  140.440  2.5991  8.6745         0  \n",
       "3687  11.279  5.1096   48.732  7.4899  2.8891         0  \n",
       "5358  5.5314  6.8732   21.578  16.916  3.2526         0  \n",
       "3134  6.5521  33.065   59.524  6.1319  3.2633         0  \n",
       "4500  1.1969  2.5829  172.720  2.1132  3.6164         0  \n",
       "\n",
       "[5 rows x 65 columns]"
      ]
     },
     "execution_count": 9,
     "metadata": {},
     "output_type": "execute_result"
    }
   ],
   "source": [
    "data.head()"
   ]
  },
  {
   "cell_type": "code",
   "execution_count": 10,
   "metadata": {},
   "outputs": [],
   "source": [
    "from sklearn.model_selection import train_test_split\n",
    "\n",
    "X = data.loc[:, data.columns != 'Bankrupt']\n",
    "y = data.loc[:, data.columns == 'Bankrupt']\n",
    "\n",
    "X_train, X_test, y_train, y_test = train_test_split(X, y, test_size=0.1, random_state=42)"
   ]
  },
  {
   "cell_type": "code",
   "execution_count": 11,
   "metadata": {},
   "outputs": [],
   "source": [
    "# copy the X_test in order to test MyModel() in the end\n",
    "X_test_original = X_test.copy()"
   ]
  },
  {
   "cell_type": "code",
   "execution_count": 12,
   "metadata": {},
   "outputs": [
    {
     "data": {
      "text/plain": [
       "(482, 64)"
      ]
     },
     "execution_count": 12,
     "metadata": {},
     "output_type": "execute_result"
    }
   ],
   "source": [
    "X_test.shape"
   ]
  },
  {
   "cell_type": "code",
   "execution_count": 13,
   "metadata": {},
   "outputs": [
    {
     "data": {
      "text/plain": [
       "(4336, 64)"
      ]
     },
     "execution_count": 13,
     "metadata": {},
     "output_type": "execute_result"
    }
   ],
   "source": [
    "X_train.shape"
   ]
  },
  {
   "cell_type": "code",
   "execution_count": 14,
   "metadata": {},
   "outputs": [
    {
     "data": {
      "text/html": [
       "<div>\n",
       "<style scoped>\n",
       "    .dataframe tbody tr th:only-of-type {\n",
       "        vertical-align: middle;\n",
       "    }\n",
       "\n",
       "    .dataframe tbody tr th {\n",
       "        vertical-align: top;\n",
       "    }\n",
       "\n",
       "    .dataframe thead th {\n",
       "        text-align: right;\n",
       "    }\n",
       "</style>\n",
       "<table border=\"1\" class=\"dataframe\">\n",
       "  <thead>\n",
       "    <tr style=\"text-align: right;\">\n",
       "      <th></th>\n",
       "      <th>X1</th>\n",
       "      <th>X2</th>\n",
       "      <th>X3</th>\n",
       "      <th>X4</th>\n",
       "      <th>X5</th>\n",
       "      <th>X6</th>\n",
       "      <th>X7</th>\n",
       "      <th>X8</th>\n",
       "      <th>X9</th>\n",
       "      <th>X10</th>\n",
       "      <th>...</th>\n",
       "      <th>X55</th>\n",
       "      <th>X56</th>\n",
       "      <th>X57</th>\n",
       "      <th>X58</th>\n",
       "      <th>X59</th>\n",
       "      <th>X60</th>\n",
       "      <th>X61</th>\n",
       "      <th>X62</th>\n",
       "      <th>X63</th>\n",
       "      <th>X64</th>\n",
       "    </tr>\n",
       "    <tr>\n",
       "      <th>Id</th>\n",
       "      <th></th>\n",
       "      <th></th>\n",
       "      <th></th>\n",
       "      <th></th>\n",
       "      <th></th>\n",
       "      <th></th>\n",
       "      <th></th>\n",
       "      <th></th>\n",
       "      <th></th>\n",
       "      <th></th>\n",
       "      <th></th>\n",
       "      <th></th>\n",
       "      <th></th>\n",
       "      <th></th>\n",
       "      <th></th>\n",
       "      <th></th>\n",
       "      <th></th>\n",
       "      <th></th>\n",
       "      <th></th>\n",
       "      <th></th>\n",
       "      <th></th>\n",
       "    </tr>\n",
       "  </thead>\n",
       "  <tbody>\n",
       "    <tr>\n",
       "      <th>1310</th>\n",
       "      <td>0.15665</td>\n",
       "      <td>0.49442</td>\n",
       "      <td>0.48293</td>\n",
       "      <td>1.9768</td>\n",
       "      <td>175.48</td>\n",
       "      <td>0.16144</td>\n",
       "      <td>0.19341</td>\n",
       "      <td>1.0226</td>\n",
       "      <td>1.22120</td>\n",
       "      <td>0.50558</td>\n",
       "      <td>...</td>\n",
       "      <td>140.33</td>\n",
       "      <td>0.181130</td>\n",
       "      <td>0.30985</td>\n",
       "      <td>0.81887</td>\n",
       "      <td>0</td>\n",
       "      <td>?</td>\n",
       "      <td>1.6167</td>\n",
       "      <td>149.160</td>\n",
       "      <td>2.4471</td>\n",
       "      <td>53.43</td>\n",
       "    </tr>\n",
       "    <tr>\n",
       "      <th>2912</th>\n",
       "      <td>0.015732</td>\n",
       "      <td>0.18357</td>\n",
       "      <td>0.77556</td>\n",
       "      <td>5.2248</td>\n",
       "      <td>221.16</td>\n",
       "      <td>0.48537</td>\n",
       "      <td>0.020383</td>\n",
       "      <td>4.1126</td>\n",
       "      <td>0.99983</td>\n",
       "      <td>0.75496</td>\n",
       "      <td>...</td>\n",
       "      <td>15523.00</td>\n",
       "      <td>-0.000166</td>\n",
       "      <td>0.020838</td>\n",
       "      <td>1.00020</td>\n",
       "      <td>0</td>\n",
       "      <td>19.645</td>\n",
       "      <td>7.3047</td>\n",
       "      <td>57.204</td>\n",
       "      <td>6.3807</td>\n",
       "      <td>28.66</td>\n",
       "    </tr>\n",
       "    <tr>\n",
       "      <th>4219</th>\n",
       "      <td>0.12473</td>\n",
       "      <td>0.89132</td>\n",
       "      <td>0.10553</td>\n",
       "      <td>1.1184</td>\n",
       "      <td>-548.48</td>\n",
       "      <td>-0.024687</td>\n",
       "      <td>0.12473</td>\n",
       "      <td>0.12194</td>\n",
       "      <td>1.22160</td>\n",
       "      <td>0.10869</td>\n",
       "      <td>...</td>\n",
       "      <td>109.48</td>\n",
       "      <td>0.454690</td>\n",
       "      <td>1.1476</td>\n",
       "      <td>0.54534</td>\n",
       "      <td>0</td>\n",
       "      <td>1.4963</td>\n",
       "      <td>7.0086</td>\n",
       "      <td>266.320</td>\n",
       "      <td>1.3706</td>\n",
       "      <td>387.8</td>\n",
       "    </tr>\n",
       "    <tr>\n",
       "      <th>1176</th>\n",
       "      <td>0.009464</td>\n",
       "      <td>0.58372</td>\n",
       "      <td>0.11573</td>\n",
       "      <td>1.3261</td>\n",
       "      <td>-97.469</td>\n",
       "      <td>0</td>\n",
       "      <td>0.013644</td>\n",
       "      <td>0.71315</td>\n",
       "      <td>0.90052</td>\n",
       "      <td>0.41628</td>\n",
       "      <td>...</td>\n",
       "      <td>3893.20</td>\n",
       "      <td>0.044959</td>\n",
       "      <td>0.022734</td>\n",
       "      <td>0.98505</td>\n",
       "      <td>0.50132</td>\n",
       "      <td>2.9219</td>\n",
       "      <td>10.81</td>\n",
       "      <td>143.820</td>\n",
       "      <td>2.5378</td>\n",
       "      <td>1.7009</td>\n",
       "    </tr>\n",
       "    <tr>\n",
       "      <th>4039</th>\n",
       "      <td>-0.043161</td>\n",
       "      <td>0.91986</td>\n",
       "      <td>-0.31771</td>\n",
       "      <td>0.26715</td>\n",
       "      <td>-149.47</td>\n",
       "      <td>-0.10003</td>\n",
       "      <td>-0.043161</td>\n",
       "      <td>0.087098</td>\n",
       "      <td>0.82760</td>\n",
       "      <td>0.080118</td>\n",
       "      <td>...</td>\n",
       "      <td>-16643.00</td>\n",
       "      <td>0.159780</td>\n",
       "      <td>-0.53872</td>\n",
       "      <td>0.84053</td>\n",
       "      <td>5.6369</td>\n",
       "      <td>35.741</td>\n",
       "      <td>10.885</td>\n",
       "      <td>191.200</td>\n",
       "      <td>1.909</td>\n",
       "      <td>0.93603</td>\n",
       "    </tr>\n",
       "  </tbody>\n",
       "</table>\n",
       "<p>5 rows × 64 columns</p>\n",
       "</div>"
      ],
      "text/plain": [
       "             X1       X2        X3       X4       X5         X6         X7  \\\n",
       "Id                                                                           \n",
       "1310    0.15665  0.49442   0.48293   1.9768   175.48    0.16144    0.19341   \n",
       "2912   0.015732  0.18357   0.77556   5.2248   221.16    0.48537   0.020383   \n",
       "4219    0.12473  0.89132   0.10553   1.1184  -548.48  -0.024687    0.12473   \n",
       "1176   0.009464  0.58372   0.11573   1.3261  -97.469          0   0.013644   \n",
       "4039  -0.043161  0.91986  -0.31771  0.26715  -149.47   -0.10003  -0.043161   \n",
       "\n",
       "            X8       X9       X10  ...       X55       X56       X57      X58  \\\n",
       "Id                                 ...                                          \n",
       "1310    1.0226  1.22120   0.50558  ...    140.33  0.181130   0.30985  0.81887   \n",
       "2912    4.1126  0.99983   0.75496  ...  15523.00 -0.000166  0.020838  1.00020   \n",
       "4219   0.12194  1.22160   0.10869  ...    109.48  0.454690    1.1476  0.54534   \n",
       "1176   0.71315  0.90052   0.41628  ...   3893.20  0.044959  0.022734  0.98505   \n",
       "4039  0.087098  0.82760  0.080118  ... -16643.00  0.159780  -0.53872  0.84053   \n",
       "\n",
       "          X59     X60     X61      X62     X63      X64  \n",
       "Id                                                       \n",
       "1310        0       ?  1.6167  149.160  2.4471    53.43  \n",
       "2912        0  19.645  7.3047   57.204  6.3807    28.66  \n",
       "4219        0  1.4963  7.0086  266.320  1.3706    387.8  \n",
       "1176  0.50132  2.9219   10.81  143.820  2.5378   1.7009  \n",
       "4039   5.6369  35.741  10.885  191.200   1.909  0.93603  \n",
       "\n",
       "[5 rows x 64 columns]"
      ]
     },
     "execution_count": 14,
     "metadata": {},
     "output_type": "execute_result"
    }
   ],
   "source": [
    "X_train.head()"
   ]
  },
  {
   "cell_type": "code",
   "execution_count": 15,
   "metadata": {},
   "outputs": [
    {
     "data": {
      "text/html": [
       "<div>\n",
       "<style scoped>\n",
       "    .dataframe tbody tr th:only-of-type {\n",
       "        vertical-align: middle;\n",
       "    }\n",
       "\n",
       "    .dataframe tbody tr th {\n",
       "        vertical-align: top;\n",
       "    }\n",
       "\n",
       "    .dataframe thead th {\n",
       "        text-align: right;\n",
       "    }\n",
       "</style>\n",
       "<table border=\"1\" class=\"dataframe\">\n",
       "  <thead>\n",
       "    <tr style=\"text-align: right;\">\n",
       "      <th></th>\n",
       "      <th>Bankrupt</th>\n",
       "    </tr>\n",
       "    <tr>\n",
       "      <th>Id</th>\n",
       "      <th></th>\n",
       "    </tr>\n",
       "  </thead>\n",
       "  <tbody>\n",
       "    <tr>\n",
       "      <th>1310</th>\n",
       "      <td>0</td>\n",
       "    </tr>\n",
       "    <tr>\n",
       "      <th>2912</th>\n",
       "      <td>0</td>\n",
       "    </tr>\n",
       "    <tr>\n",
       "      <th>4219</th>\n",
       "      <td>0</td>\n",
       "    </tr>\n",
       "    <tr>\n",
       "      <th>1176</th>\n",
       "      <td>0</td>\n",
       "    </tr>\n",
       "    <tr>\n",
       "      <th>4039</th>\n",
       "      <td>1</td>\n",
       "    </tr>\n",
       "  </tbody>\n",
       "</table>\n",
       "</div>"
      ],
      "text/plain": [
       "      Bankrupt\n",
       "Id            \n",
       "1310         0\n",
       "2912         0\n",
       "4219         0\n",
       "1176         0\n",
       "4039         1"
      ]
     },
     "execution_count": 15,
     "metadata": {},
     "output_type": "execute_result"
    }
   ],
   "source": [
    "y_train.head()"
   ]
  },
  {
   "cell_type": "code",
   "execution_count": 16,
   "metadata": {},
   "outputs": [],
   "source": [
    "y_train.reset_index(drop=True,inplace=True)\n",
    "y_test.reset_index(drop=True,inplace=True)"
   ]
  },
  {
   "cell_type": "markdown",
   "metadata": {},
   "source": [
    "# Exploratory Data Analysis\n",
    "In this section, I would like to use several plots to be more familar with the dataset and gain more insights for further processing"
   ]
  },
  {
   "cell_type": "markdown",
   "metadata": {},
   "source": [
    "## Convert features to numeric"
   ]
  },
  {
   "cell_type": "code",
   "execution_count": 17,
   "metadata": {},
   "outputs": [],
   "source": [
    "#  first convert all attributes to numeric\n",
    "X_train = X_train.apply(pd.to_numeric,errors='coerce')"
   ]
  },
  {
   "cell_type": "code",
   "execution_count": 18,
   "metadata": {},
   "outputs": [
    {
     "name": "stdout",
     "output_type": "stream",
     "text": [
      "<class 'pandas.core.frame.DataFrame'>\n",
      "Int64Index: 4336 entries, 1310 to 1209\n",
      "Data columns (total 64 columns):\n",
      " #   Column  Non-Null Count  Dtype  \n",
      "---  ------  --------------  -----  \n",
      " 0   X1      4334 non-null   float64\n",
      " 1   X2      4334 non-null   float64\n",
      " 2   X3      4334 non-null   float64\n",
      " 3   X4      4322 non-null   float64\n",
      " 4   X5      4327 non-null   float64\n",
      " 5   X6      4334 non-null   float64\n",
      " 6   X7      4334 non-null   float64\n",
      " 7   X8      4323 non-null   float64\n",
      " 8   X9      4336 non-null   float64\n",
      " 9   X10     4334 non-null   float64\n",
      " 10  X11     4334 non-null   float64\n",
      " 11  X12     4322 non-null   float64\n",
      " 12  X13     4336 non-null   float64\n",
      " 13  X14     4334 non-null   float64\n",
      " 14  X15     4331 non-null   float64\n",
      " 15  X16     4323 non-null   float64\n",
      " 16  X17     4323 non-null   float64\n",
      " 17  X18     4334 non-null   float64\n",
      " 18  X19     4336 non-null   float64\n",
      " 19  X20     4336 non-null   float64\n",
      " 20  X21     4271 non-null   float64\n",
      " 21  X22     4334 non-null   float64\n",
      " 22  X23     4336 non-null   float64\n",
      " 23  X24     4230 non-null   float64\n",
      " 24  X25     4334 non-null   float64\n",
      " 25  X26     4323 non-null   float64\n",
      " 26  X27     4066 non-null   float64\n",
      " 27  X28     4259 non-null   float64\n",
      " 28  X29     4334 non-null   float64\n",
      " 29  X30     4336 non-null   float64\n",
      " 30  X31     4336 non-null   float64\n",
      " 31  X32     4299 non-null   float64\n",
      " 32  X33     4322 non-null   float64\n",
      " 33  X34     4323 non-null   float64\n",
      " 34  X35     4334 non-null   float64\n",
      " 35  X36     4334 non-null   float64\n",
      " 36  X37     2477 non-null   float64\n",
      " 37  X38     4334 non-null   float64\n",
      " 38  X39     4336 non-null   float64\n",
      " 39  X40     4322 non-null   float64\n",
      " 40  X41     4288 non-null   float64\n",
      " 41  X42     4336 non-null   float64\n",
      " 42  X43     4336 non-null   float64\n",
      " 43  X44     4336 non-null   float64\n",
      " 44  X45     4140 non-null   float64\n",
      " 45  X46     4322 non-null   float64\n",
      " 46  X47     4307 non-null   float64\n",
      " 47  X48     4334 non-null   float64\n",
      " 48  X49     4336 non-null   float64\n",
      " 49  X50     4323 non-null   float64\n",
      " 50  X51     4334 non-null   float64\n",
      " 51  X52     4306 non-null   float64\n",
      " 52  X53     4259 non-null   float64\n",
      " 53  X54     4259 non-null   float64\n",
      " 54  X55     4336 non-null   float64\n",
      " 55  X56     4336 non-null   float64\n",
      " 56  X57     4334 non-null   float64\n",
      " 57  X58     4336 non-null   float64\n",
      " 58  X59     4334 non-null   float64\n",
      " 59  X60     4140 non-null   float64\n",
      " 60  X61     4325 non-null   float64\n",
      " 61  X62     4336 non-null   float64\n",
      " 62  X63     4322 non-null   float64\n",
      " 63  X64     4259 non-null   float64\n",
      "dtypes: float64(64)\n",
      "memory usage: 2.2 MB\n"
     ]
    }
   ],
   "source": [
    "X_train.info()"
   ]
  },
  {
   "cell_type": "markdown",
   "metadata": {},
   "source": [
    "### Missing value check"
   ]
  },
  {
   "cell_type": "code",
   "execution_count": 19,
   "metadata": {},
   "outputs": [
    {
     "data": {
      "text/plain": [
       "X1       2\n",
       "X2       2\n",
       "X3       2\n",
       "X4      14\n",
       "X5       9\n",
       "      ... \n",
       "X60    196\n",
       "X61     11\n",
       "X62      0\n",
       "X63     14\n",
       "X64     77\n",
       "Length: 64, dtype: int64"
      ]
     },
     "execution_count": 19,
     "metadata": {},
     "output_type": "execute_result"
    }
   ],
   "source": [
    "# count the numebr of NaN for each feature\n",
    "X_train.isnull().sum()"
   ]
  },
  {
   "cell_type": "code",
   "execution_count": 20,
   "metadata": {},
   "outputs": [
    {
     "data": {
      "text/plain": [
       "0"
      ]
     },
     "execution_count": 20,
     "metadata": {},
     "output_type": "execute_result"
    }
   ],
   "source": [
    "# count the missing values in y_train\n",
    "y_train.isnull().sum().sum()"
   ]
  },
  {
   "cell_type": "code",
   "execution_count": 21,
   "metadata": {},
   "outputs": [
    {
     "data": {
      "text/plain": [
       "3369"
      ]
     },
     "execution_count": 21,
     "metadata": {},
     "output_type": "execute_result"
    }
   ],
   "source": [
    "# count the total numebr of NaN \n",
    "X_train.isnull().sum().sum()"
   ]
  },
  {
   "cell_type": "code",
   "execution_count": 22,
   "metadata": {},
   "outputs": [
    {
     "data": {
      "text/html": [
       "<div>\n",
       "<style scoped>\n",
       "    .dataframe tbody tr th:only-of-type {\n",
       "        vertical-align: middle;\n",
       "    }\n",
       "\n",
       "    .dataframe tbody tr th {\n",
       "        vertical-align: top;\n",
       "    }\n",
       "\n",
       "    .dataframe thead th {\n",
       "        text-align: right;\n",
       "    }\n",
       "</style>\n",
       "<table border=\"1\" class=\"dataframe\">\n",
       "  <thead>\n",
       "    <tr style=\"text-align: right;\">\n",
       "      <th></th>\n",
       "      <th>0</th>\n",
       "    </tr>\n",
       "  </thead>\n",
       "  <tbody>\n",
       "    <tr>\n",
       "      <th>X37</th>\n",
       "      <td>1859.0</td>\n",
       "    </tr>\n",
       "  </tbody>\n",
       "</table>\n",
       "</div>"
      ],
      "text/plain": [
       "          0\n",
       "X37  1859.0"
      ]
     },
     "execution_count": 22,
     "metadata": {},
     "output_type": "execute_result"
    }
   ],
   "source": [
    "# find features that have missing values greater than 1/3 of the number of the observations\n",
    "missing_num = pd.DataFrame(X_train.isnull().sum())\n",
    "missing_num[missing_num>len(X_train)/3].dropna()"
   ]
  },
  {
   "cell_type": "markdown",
   "metadata": {},
   "source": [
    "As shown above, I find that feature 'X37' has too many missing values, it might be better to drop this feature rather than impute the missing values in later steps."
   ]
  },
  {
   "cell_type": "code",
   "execution_count": 23,
   "metadata": {},
   "outputs": [],
   "source": [
    "X_train.drop('X37',axis=1,inplace=True)"
   ]
  },
  {
   "cell_type": "markdown",
   "metadata": {},
   "source": [
    "## Check whether the dataset is imbalanced"
   ]
  },
  {
   "cell_type": "code",
   "execution_count": 24,
   "metadata": {},
   "outputs": [
    {
     "data": {
      "text/plain": [
       "Bankrupt\n",
       "0           4068\n",
       "1            268\n",
       "dtype: int64"
      ]
     },
     "execution_count": 24,
     "metadata": {},
     "output_type": "execute_result"
    }
   ],
   "source": [
    "y_train.value_counts()"
   ]
  },
  {
   "cell_type": "code",
   "execution_count": 25,
   "metadata": {},
   "outputs": [
    {
     "data": {
      "text/plain": [
       "<AxesSubplot:xlabel='Bankrupt'>"
      ]
     },
     "execution_count": 25,
     "metadata": {},
     "output_type": "execute_result"
    },
    {
     "data": {
      "image/png": "[encoded data removed]",
      "text/plain": [
       "<Figure size 432x288 with 1 Axes>"
      ]
     },
     "metadata": {
      "needs_background": "light"
     },
     "output_type": "display_data"
    }
   ],
   "source": [
    "y_train.value_counts().plot(kind='bar')"
   ]
  },
  {
   "cell_type": "markdown",
   "metadata": {},
   "source": [
    "- The above plot shows that most (more than 90%) of the training data do not go bankrupt in the following year, therefore the dataset is `imbalanced`. \n",
    "- I will apply Resampling method to deal with the imbalanced data in later sections in order to have better performance in machine learning models."
   ]
  },
  {
   "cell_type": "markdown",
   "metadata": {},
   "source": [
    "## Check the correlation between features\n",
    "I expect that several features might be highly correlated since some of them are calculated using similar terms, so I display the `correlation matrix` and use `heatmap` to visualize it"
   ]
  },
  {
   "cell_type": "code",
   "execution_count": 26,
   "metadata": {},
   "outputs": [
    {
     "data": {
      "text/html": [
       "<div>\n",
       "<style scoped>\n",
       "    .dataframe tbody tr th:only-of-type {\n",
       "        vertical-align: middle;\n",
       "    }\n",
       "\n",
       "    .dataframe tbody tr th {\n",
       "        vertical-align: top;\n",
       "    }\n",
       "\n",
       "    .dataframe thead th {\n",
       "        text-align: right;\n",
       "    }\n",
       "</style>\n",
       "<table border=\"1\" class=\"dataframe\">\n",
       "  <thead>\n",
       "    <tr style=\"text-align: right;\">\n",
       "      <th></th>\n",
       "      <th>X1</th>\n",
       "      <th>X2</th>\n",
       "      <th>X3</th>\n",
       "      <th>X4</th>\n",
       "      <th>X5</th>\n",
       "      <th>X6</th>\n",
       "      <th>X7</th>\n",
       "      <th>X8</th>\n",
       "      <th>X9</th>\n",
       "      <th>X10</th>\n",
       "      <th>...</th>\n",
       "      <th>X55</th>\n",
       "      <th>X56</th>\n",
       "      <th>X57</th>\n",
       "      <th>X58</th>\n",
       "      <th>X59</th>\n",
       "      <th>X60</th>\n",
       "      <th>X61</th>\n",
       "      <th>X62</th>\n",
       "      <th>X63</th>\n",
       "      <th>X64</th>\n",
       "    </tr>\n",
       "  </thead>\n",
       "  <tbody>\n",
       "    <tr>\n",
       "      <th>X1</th>\n",
       "      <td>1.000000</td>\n",
       "      <td>-0.066482</td>\n",
       "      <td>0.070248</td>\n",
       "      <td>0.012557</td>\n",
       "      <td>0.000321</td>\n",
       "      <td>0.863912</td>\n",
       "      <td>0.999984</td>\n",
       "      <td>0.009189</td>\n",
       "      <td>-0.005465</td>\n",
       "      <td>-0.925436</td>\n",
       "      <td>...</td>\n",
       "      <td>0.004894</td>\n",
       "      <td>0.009634</td>\n",
       "      <td>0.005114</td>\n",
       "      <td>-0.008544</td>\n",
       "      <td>0.000801</td>\n",
       "      <td>0.000357</td>\n",
       "      <td>-0.077302</td>\n",
       "      <td>-0.003969</td>\n",
       "      <td>0.014390</td>\n",
       "      <td>-0.754174</td>\n",
       "    </tr>\n",
       "    <tr>\n",
       "      <th>X2</th>\n",
       "      <td>-0.066482</td>\n",
       "      <td>1.000000</td>\n",
       "      <td>-0.902316</td>\n",
       "      <td>-0.014441</td>\n",
       "      <td>-0.009578</td>\n",
       "      <td>-0.086986</td>\n",
       "      <td>-0.066797</td>\n",
       "      <td>-0.019351</td>\n",
       "      <td>0.198041</td>\n",
       "      <td>-0.304098</td>\n",
       "      <td>...</td>\n",
       "      <td>-0.056229</td>\n",
       "      <td>-0.064499</td>\n",
       "      <td>-0.004455</td>\n",
       "      <td>0.066551</td>\n",
       "      <td>0.005053</td>\n",
       "      <td>-0.000029</td>\n",
       "      <td>0.051653</td>\n",
       "      <td>0.068162</td>\n",
       "      <td>-0.017516</td>\n",
       "      <td>0.011394</td>\n",
       "    </tr>\n",
       "    <tr>\n",
       "      <th>X3</th>\n",
       "      <td>0.070248</td>\n",
       "      <td>-0.902316</td>\n",
       "      <td>1.000000</td>\n",
       "      <td>0.020030</td>\n",
       "      <td>0.005619</td>\n",
       "      <td>0.083018</td>\n",
       "      <td>0.070583</td>\n",
       "      <td>0.016024</td>\n",
       "      <td>-0.143789</td>\n",
       "      <td>0.287230</td>\n",
       "      <td>...</td>\n",
       "      <td>0.053608</td>\n",
       "      <td>0.050041</td>\n",
       "      <td>0.003074</td>\n",
       "      <td>-0.043424</td>\n",
       "      <td>-0.003047</td>\n",
       "      <td>-0.000472</td>\n",
       "      <td>-0.048684</td>\n",
       "      <td>-0.072804</td>\n",
       "      <td>0.022928</td>\n",
       "      <td>-0.006139</td>\n",
       "    </tr>\n",
       "    <tr>\n",
       "      <th>X4</th>\n",
       "      <td>0.012557</td>\n",
       "      <td>-0.014441</td>\n",
       "      <td>0.020030</td>\n",
       "      <td>1.000000</td>\n",
       "      <td>0.000728</td>\n",
       "      <td>-0.000527</td>\n",
       "      <td>0.012822</td>\n",
       "      <td>0.911810</td>\n",
       "      <td>-0.011067</td>\n",
       "      <td>0.014618</td>\n",
       "      <td>...</td>\n",
       "      <td>-0.000312</td>\n",
       "      <td>0.000021</td>\n",
       "      <td>0.001192</td>\n",
       "      <td>-0.002127</td>\n",
       "      <td>-0.001706</td>\n",
       "      <td>-0.002579</td>\n",
       "      <td>-0.003625</td>\n",
       "      <td>-0.002606</td>\n",
       "      <td>0.978679</td>\n",
       "      <td>0.011652</td>\n",
       "    </tr>\n",
       "    <tr>\n",
       "      <th>X5</th>\n",
       "      <td>0.000321</td>\n",
       "      <td>-0.009578</td>\n",
       "      <td>0.005619</td>\n",
       "      <td>0.000728</td>\n",
       "      <td>1.000000</td>\n",
       "      <td>0.000558</td>\n",
       "      <td>0.000304</td>\n",
       "      <td>0.001391</td>\n",
       "      <td>-0.054003</td>\n",
       "      <td>0.003554</td>\n",
       "      <td>...</td>\n",
       "      <td>0.002209</td>\n",
       "      <td>0.011115</td>\n",
       "      <td>0.000105</td>\n",
       "      <td>-0.010146</td>\n",
       "      <td>-0.000676</td>\n",
       "      <td>0.000047</td>\n",
       "      <td>-0.003448</td>\n",
       "      <td>-0.123155</td>\n",
       "      <td>0.000472</td>\n",
       "      <td>-0.000859</td>\n",
       "    </tr>\n",
       "    <tr>\n",
       "      <th>...</th>\n",
       "      <td>...</td>\n",
       "      <td>...</td>\n",
       "      <td>...</td>\n",
       "      <td>...</td>\n",
       "      <td>...</td>\n",
       "      <td>...</td>\n",
       "      <td>...</td>\n",
       "      <td>...</td>\n",
       "      <td>...</td>\n",
       "      <td>...</td>\n",
       "      <td>...</td>\n",
       "      <td>...</td>\n",
       "      <td>...</td>\n",
       "      <td>...</td>\n",
       "      <td>...</td>\n",
       "      <td>...</td>\n",
       "      <td>...</td>\n",
       "      <td>...</td>\n",
       "      <td>...</td>\n",
       "      <td>...</td>\n",
       "      <td>...</td>\n",
       "    </tr>\n",
       "    <tr>\n",
       "      <th>X60</th>\n",
       "      <td>0.000357</td>\n",
       "      <td>-0.000029</td>\n",
       "      <td>-0.000472</td>\n",
       "      <td>-0.002579</td>\n",
       "      <td>0.000047</td>\n",
       "      <td>0.000073</td>\n",
       "      <td>0.000399</td>\n",
       "      <td>-0.002847</td>\n",
       "      <td>-0.005121</td>\n",
       "      <td>-0.000166</td>\n",
       "      <td>...</td>\n",
       "      <td>-0.001696</td>\n",
       "      <td>0.002290</td>\n",
       "      <td>0.000374</td>\n",
       "      <td>-0.001421</td>\n",
       "      <td>-0.000662</td>\n",
       "      <td>1.000000</td>\n",
       "      <td>-0.003134</td>\n",
       "      <td>0.001360</td>\n",
       "      <td>-0.008415</td>\n",
       "      <td>-0.000785</td>\n",
       "    </tr>\n",
       "    <tr>\n",
       "      <th>X61</th>\n",
       "      <td>-0.077302</td>\n",
       "      <td>0.051653</td>\n",
       "      <td>-0.048684</td>\n",
       "      <td>-0.003625</td>\n",
       "      <td>-0.003448</td>\n",
       "      <td>-0.034471</td>\n",
       "      <td>-0.077374</td>\n",
       "      <td>-0.003549</td>\n",
       "      <td>0.130486</td>\n",
       "      <td>-0.049071</td>\n",
       "      <td>...</td>\n",
       "      <td>-0.012482</td>\n",
       "      <td>-0.006349</td>\n",
       "      <td>-0.001660</td>\n",
       "      <td>0.001922</td>\n",
       "      <td>0.001394</td>\n",
       "      <td>-0.003134</td>\n",
       "      <td>1.000000</td>\n",
       "      <td>-0.002388</td>\n",
       "      <td>0.004092</td>\n",
       "      <td>-0.001569</td>\n",
       "    </tr>\n",
       "    <tr>\n",
       "      <th>X62</th>\n",
       "      <td>-0.003969</td>\n",
       "      <td>0.068162</td>\n",
       "      <td>-0.072804</td>\n",
       "      <td>-0.002606</td>\n",
       "      <td>-0.123155</td>\n",
       "      <td>-0.005390</td>\n",
       "      <td>-0.004064</td>\n",
       "      <td>-0.001612</td>\n",
       "      <td>-0.030979</td>\n",
       "      <td>-0.023631</td>\n",
       "      <td>...</td>\n",
       "      <td>-0.011775</td>\n",
       "      <td>-0.541727</td>\n",
       "      <td>-0.003025</td>\n",
       "      <td>0.689947</td>\n",
       "      <td>-0.000894</td>\n",
       "      <td>0.001360</td>\n",
       "      <td>-0.002388</td>\n",
       "      <td>1.000000</td>\n",
       "      <td>-0.004693</td>\n",
       "      <td>-0.002976</td>\n",
       "    </tr>\n",
       "    <tr>\n",
       "      <th>X63</th>\n",
       "      <td>0.014390</td>\n",
       "      <td>-0.017516</td>\n",
       "      <td>0.022928</td>\n",
       "      <td>0.978679</td>\n",
       "      <td>0.000472</td>\n",
       "      <td>0.000005</td>\n",
       "      <td>0.015338</td>\n",
       "      <td>0.893252</td>\n",
       "      <td>0.018572</td>\n",
       "      <td>0.017798</td>\n",
       "      <td>...</td>\n",
       "      <td>-0.000957</td>\n",
       "      <td>0.002875</td>\n",
       "      <td>0.001605</td>\n",
       "      <td>-0.007224</td>\n",
       "      <td>-0.001444</td>\n",
       "      <td>-0.008415</td>\n",
       "      <td>0.004092</td>\n",
       "      <td>-0.004693</td>\n",
       "      <td>1.000000</td>\n",
       "      <td>0.013223</td>\n",
       "    </tr>\n",
       "    <tr>\n",
       "      <th>X64</th>\n",
       "      <td>-0.754174</td>\n",
       "      <td>0.011394</td>\n",
       "      <td>-0.006139</td>\n",
       "      <td>0.011652</td>\n",
       "      <td>-0.000859</td>\n",
       "      <td>-0.654238</td>\n",
       "      <td>-0.754075</td>\n",
       "      <td>0.008851</td>\n",
       "      <td>0.069714</td>\n",
       "      <td>0.714146</td>\n",
       "      <td>...</td>\n",
       "      <td>-0.003246</td>\n",
       "      <td>-0.001876</td>\n",
       "      <td>-0.000362</td>\n",
       "      <td>0.000983</td>\n",
       "      <td>-0.002829</td>\n",
       "      <td>-0.000785</td>\n",
       "      <td>-0.001569</td>\n",
       "      <td>-0.002976</td>\n",
       "      <td>0.013223</td>\n",
       "      <td>1.000000</td>\n",
       "    </tr>\n",
       "  </tbody>\n",
       "</table>\n",
       "<p>63 rows × 63 columns</p>\n",
       "</div>"
      ],
      "text/plain": [
       "           X1        X2        X3        X4        X5        X6        X7  \\\n",
       "X1   1.000000 -0.066482  0.070248  0.012557  0.000321  0.863912  0.999984   \n",
       "X2  -0.066482  1.000000 -0.902316 -0.014441 -0.009578 -0.086986 -0.066797   \n",
       "X3   0.070248 -0.902316  1.000000  0.020030  0.005619  0.083018  0.070583   \n",
       "X4   0.012557 -0.014441  0.020030  1.000000  0.000728 -0.000527  0.012822   \n",
       "X5   0.000321 -0.009578  0.005619  0.000728  1.000000  0.000558  0.000304   \n",
       "..        ...       ...       ...       ...       ...       ...       ...   \n",
       "X60  0.000357 -0.000029 -0.000472 -0.002579  0.000047  0.000073  0.000399   \n",
       "X61 -0.077302  0.051653 -0.048684 -0.003625 -0.003448 -0.034471 -0.077374   \n",
       "X62 -0.003969  0.068162 -0.072804 -0.002606 -0.123155 -0.005390 -0.004064   \n",
       "X63  0.014390 -0.017516  0.022928  0.978679  0.000472  0.000005  0.015338   \n",
       "X64 -0.754174  0.011394 -0.006139  0.011652 -0.000859 -0.654238 -0.754075   \n",
       "\n",
       "           X8        X9       X10  ...       X55       X56       X57  \\\n",
       "X1   0.009189 -0.005465 -0.925436  ...  0.004894  0.009634  0.005114   \n",
       "X2  -0.019351  0.198041 -0.304098  ... -0.056229 -0.064499 -0.004455   \n",
       "X3   0.016024 -0.143789  0.287230  ...  0.053608  0.050041  0.003074   \n",
       "X4   0.911810 -0.011067  0.014618  ... -0.000312  0.000021  0.001192   \n",
       "X5   0.001391 -0.054003  0.003554  ...  0.002209  0.011115  0.000105   \n",
       "..        ...       ...       ...  ...       ...       ...       ...   \n",
       "X60 -0.002847 -0.005121 -0.000166  ... -0.001696  0.002290  0.000374   \n",
       "X61 -0.003549  0.130486 -0.049071  ... -0.012482 -0.006349 -0.001660   \n",
       "X62 -0.001612 -0.030979 -0.023631  ... -0.011775 -0.541727 -0.003025   \n",
       "X63  0.893252  0.018572  0.017798  ... -0.000957  0.002875  0.001605   \n",
       "X64  0.008851  0.069714  0.714146  ... -0.003246 -0.001876 -0.000362   \n",
       "\n",
       "          X58       X59       X60       X61       X62       X63       X64  \n",
       "X1  -0.008544  0.000801  0.000357 -0.077302 -0.003969  0.014390 -0.754174  \n",
       "X2   0.066551  0.005053 -0.000029  0.051653  0.068162 -0.017516  0.011394  \n",
       "X3  -0.043424 -0.003047 -0.000472 -0.048684 -0.072804  0.022928 -0.006139  \n",
       "X4  -0.002127 -0.001706 -0.002579 -0.003625 -0.002606  0.978679  0.011652  \n",
       "X5  -0.010146 -0.000676  0.000047 -0.003448 -0.123155  0.000472 -0.000859  \n",
       "..        ...       ...       ...       ...       ...       ...       ...  \n",
       "X60 -0.001421 -0.000662  1.000000 -0.003134  0.001360 -0.008415 -0.000785  \n",
       "X61  0.001922  0.001394 -0.003134  1.000000 -0.002388  0.004092 -0.001569  \n",
       "X62  0.689947 -0.000894  0.001360 -0.002388  1.000000 -0.004693 -0.002976  \n",
       "X63 -0.007224 -0.001444 -0.008415  0.004092 -0.004693  1.000000  0.013223  \n",
       "X64  0.000983 -0.002829 -0.000785 -0.001569 -0.002976  0.013223  1.000000  \n",
       "\n",
       "[63 rows x 63 columns]"
      ]
     },
     "execution_count": 26,
     "metadata": {},
     "output_type": "execute_result"
    }
   ],
   "source": [
    "X_train.corr()"
   ]
  },
  {
   "cell_type": "code",
   "execution_count": 27,
   "metadata": {},
   "outputs": [
    {
     "data": {
      "text/plain": [
       "<AxesSubplot:>"
      ]
     },
     "execution_count": 27,
     "metadata": {},
     "output_type": "execute_result"
    },
    {
     "data": {
      "image/png": "[encoded data removed]",
      "text/plain": [
       "<Figure size 1152x864 with 2 Axes>"
      ]
     },
     "metadata": {
      "needs_background": "light"
     },
     "output_type": "display_data"
    }
   ],
   "source": [
    "# visualize the correlation using heatmap\n",
    "import seaborn as sns\n",
    "fig,ax = plt.subplots(figsize=(16,12))\n",
    "\n",
    "corr = X_train.corr()\n",
    "\n",
    "mask = np.zeros_like(corr)\n",
    "mask[np.triu_indices_from(mask)] = True\n",
    "\n",
    "sns.heatmap(corr,mask=mask,cbar_kws={'shrink':.5},cmap='rainbow',square=False)"
   ]
  },
  {
   "cell_type": "markdown",
   "metadata": {
    "tags": []
   },
   "source": [
    "According to this heatmap, the expectation is matched since there are many pairs of features that are highly correlated; for example:\n",
    "- X2 (total liabilities / total assets) and X3 (working capital / total assets) -> their high correlation might due to they share the same denominator\n",
    "- X6 (retained earnings / total assets) and X7 (EBIT / total assets) -> they also share the same denominator and retained earnings are similar to EBIT\n",
    "- X53 (equity / fixed assets) and X64 (sales / fixed assets)\n",
    "- X10 (equity / total assets) with X22 (profit on operating activities / total assets) or X36 (constant capital / total assets)\n",
    "- ...\n",
    "\n",
    "I will deal with this issue using the Principal Component Analysis in later sections to achieve dimensionality reduction."
   ]
  },
  {
   "cell_type": "markdown",
   "metadata": {},
   "source": [
    "## Check the scales of features\n",
    "\n",
    "It is known that some machine learning models such as Logistic Regression are very sensitive to the scale of features. In order not to impact the performance of such models, I want to check whether we need to apply scaling transformation on the dataset using `boxplot` in the `seaborn` library."
   ]
  },
  {
   "cell_type": "code",
   "execution_count": 28,
   "metadata": {},
   "outputs": [
    {
     "data": {
      "text/plain": [
       "<Figure size 1440x1152 with 0 Axes>"
      ]
     },
     "execution_count": 28,
     "metadata": {},
     "output_type": "execute_result"
    },
    {
     "data": {
      "text/plain": [
       "[None]"
      ]
     },
     "execution_count": 28,
     "metadata": {},
     "output_type": "execute_result"
    },
    {
     "data": {
      "image/png": "[encoded data removed]",
      "text/plain": [
       "<Figure size 1440x1152 with 1 Axes>"
      ]
     },
     "metadata": {
      "needs_background": "light"
     },
     "output_type": "display_data"
    }
   ],
   "source": [
    "plt.figure(figsize=(20,16))\n",
    "ax = sns.boxplot(data=X_train,orient='h', palette=\"Set3\")\n",
    "ax.set(xscale='log')\n",
    "plt.show()"
   ]
  },
  {
   "cell_type": "markdown",
   "metadata": {},
   "source": [
    "Based on this boxplot, we can see that:\n",
    "- features have different scales with each other\n",
    "- some features have much larger scales than other features\n",
    "- also exists several outliers\n",
    "\n",
    "It would be not good to our model performance if we just drop all the outliers. Therefore, some necessary transformation such as scaling might be needed."
   ]
  },
  {
   "cell_type": "markdown",
   "metadata": {},
   "source": [
    "# Pre-processing the data\n",
    "\n",
    "In previous sections, I have already done several steps of data pre-processing such as:\n",
    "- convert the features to be numeric\n",
    "- drop the feature (X37) with more than one-third of the number of observations' missing value \n",
    "\n",
    "However, as discussed in the former section, the data have some other problems so that they need to be further processed here:\n",
    "- Some features are highly correlated with each other & models such as Logistic Regression and SVM is very sensitive to high correlation -> dimensionality reduction technique such as PCA is necessary for them\n",
    "- Features have different scales & PCA is very sensitive to scales -> scaling is required before PCA\n",
    "- The data is imbalanced -> data augmentation for the minority class is needed\n",
    "- There are many outliers and they could be bad for our classification models, but simply dropping them is not a good choice -> other process such as imputation is needed"
   ]
  },
  {
   "cell_type": "markdown",
   "metadata": {},
   "source": [
    "## Imputation: Dealing with Missing Data and Outliers\n",
    "\n",
    "Although I have dropped the feature 'X37' with the most missing values, there are other features that still have many missing values. Here I choose to use the `KNNImputer` to impute the missing values. "
   ]
  },
  {
   "cell_type": "code",
   "execution_count": 29,
   "metadata": {},
   "outputs": [],
   "source": [
    "# I decide to use KNNImputer \n",
    "from sklearn.impute import KNNImputer\n",
    "imputer = KNNImputer()\n",
    "\n",
    "X_train = pd.DataFrame(imputer.fit_transform(X_train), columns = X_train.columns)"
   ]
  },
  {
   "cell_type": "code",
   "execution_count": 30,
   "metadata": {},
   "outputs": [
    {
     "data": {
      "text/plain": [
       "0"
      ]
     },
     "execution_count": 30,
     "metadata": {},
     "output_type": "execute_result"
    }
   ],
   "source": [
    "X_train.isnull().sum().sum()"
   ]
  },
  {
   "cell_type": "markdown",
   "metadata": {},
   "source": [
    "Now the missing value becomes to be zero. Then I am going to deal with the outliers and there will basically be two steps: 1. set all outliers (which are outside of 3 standard deviations) to be NaN; 2. impute all the new missing values again using `KNNImputer`. \n",
    "\n",
    "I choose to perform missing value imputation twice, one before outlier treatment and other after outlier treatment, because in first step I want to treat all missing values with appropriate values, by doing this, I will treat all missing values; and after this, an outlier treatment will change the outlier to be NaN which can again be filled by missing value imputation."
   ]
  },
  {
   "cell_type": "code",
   "execution_count": 31,
   "metadata": {},
   "outputs": [],
   "source": [
    "from scipy import stats\n",
    "\n",
    "# A function that sets all the outliers to be NaN\n",
    "def trans_outliers_to_nan(df, z_thresh=3):\n",
    "    identifier = df.select_dtypes(include=[np.number]).apply(lambda x: np.abs(stats.zscore(x)) < z_thresh)\n",
    "    return df[identifier]"
   ]
  },
  {
   "cell_type": "code",
   "execution_count": 32,
   "metadata": {},
   "outputs": [],
   "source": [
    "X_train = trans_outliers_to_nan(X_train)\n",
    "\n",
    "# apply the KNN Imputer again after setting outliers to be NaN \n",
    "X_train = pd.DataFrame(imputer.fit_transform(X_train), columns = X_train.columns)"
   ]
  },
  {
   "cell_type": "markdown",
   "metadata": {
    "tags": []
   },
   "source": [
    "## Dealing with the imbalanced data\n",
    "\n",
    "I have shown that the data is imbalanced since only 6.18% of the companies are 'Bankrupt', which means that 'Bankrupt' here is an under-presented class. As a result, training is may be biased to not do as well on examples from this class. \n",
    "\n",
    "However, this minority class \"Bankrupt' here is the most important class and we require high accuracy in it. Therefore, I will apply a method called Resampling here to oversample the minority class. Here, `SMOTE` in `imblearn` library will be used to implement the **Synthetic Minority Over-sampling Technique** to oversample the 'Bankrupt' class.\n",
    "\n",
    "Here, the `sampling_strategy` parameter in `SMOTE` will be set to default as 'auto', which will oversample the minority class to have the same number as the majority class."
   ]
  },
  {
   "cell_type": "code",
   "execution_count": 33,
   "metadata": {},
   "outputs": [],
   "source": [
    "from imblearn import over_sampling\n",
    "from imblearn.over_sampling import SMOTE"
   ]
  },
  {
   "cell_type": "code",
   "execution_count": 34,
   "metadata": {},
   "outputs": [],
   "source": [
    "oversample = SMOTE(random_state = 42)\n",
    "X_train, y_train = oversample.fit_resample(X_train, y_train)"
   ]
  },
  {
   "cell_type": "code",
   "execution_count": 35,
   "metadata": {},
   "outputs": [
    {
     "data": {
      "text/plain": [
       "Bankrupt\n",
       "0           4068\n",
       "1           4068\n",
       "dtype: int64"
      ]
     },
     "execution_count": 35,
     "metadata": {},
     "output_type": "execute_result"
    }
   ],
   "source": [
    "y_train.value_counts()"
   ]
  },
  {
   "cell_type": "markdown",
   "metadata": {},
   "source": [
    "## Scaling\n",
    "\n",
    "As mentioned, features have different scales. Moreover, since several models are sensitive to high correlation, PCA will be applied to the data and it will assume all the features are centered (with mean 0) and it is very sensitive to scales.\n",
    "\n",
    "Thus, I choose to transform each feature into standardized values with mean 0 and unit standard deviation using `StandardScaler` in `sklearn` for classification models such as Logistic Regression and SVM."
   ]
  },
  {
   "cell_type": "code",
   "execution_count": 36,
   "metadata": {},
   "outputs": [],
   "source": [
    "from sklearn.preprocessing import StandardScaler"
   ]
  },
  {
   "cell_type": "code",
   "execution_count": 37,
   "metadata": {},
   "outputs": [],
   "source": [
    "scaler = StandardScaler()\n",
    "X_train_scale = pd.DataFrame(scaler.fit_transform(X_train), columns = X_train.columns)"
   ]
  },
  {
   "cell_type": "code",
   "execution_count": 38,
   "metadata": {},
   "outputs": [
    {
     "data": {
      "text/html": [
       "<div>\n",
       "<style scoped>\n",
       "    .dataframe tbody tr th:only-of-type {\n",
       "        vertical-align: middle;\n",
       "    }\n",
       "\n",
       "    .dataframe tbody tr th {\n",
       "        vertical-align: top;\n",
       "    }\n",
       "\n",
       "    .dataframe thead th {\n",
       "        text-align: right;\n",
       "    }\n",
       "</style>\n",
       "<table border=\"1\" class=\"dataframe\">\n",
       "  <thead>\n",
       "    <tr style=\"text-align: right;\">\n",
       "      <th></th>\n",
       "      <th>X1</th>\n",
       "      <th>X2</th>\n",
       "      <th>X3</th>\n",
       "      <th>X4</th>\n",
       "      <th>X5</th>\n",
       "      <th>X6</th>\n",
       "      <th>X7</th>\n",
       "      <th>X8</th>\n",
       "      <th>X9</th>\n",
       "      <th>X10</th>\n",
       "      <th>...</th>\n",
       "      <th>X55</th>\n",
       "      <th>X56</th>\n",
       "      <th>X57</th>\n",
       "      <th>X58</th>\n",
       "      <th>X59</th>\n",
       "      <th>X60</th>\n",
       "      <th>X61</th>\n",
       "      <th>X62</th>\n",
       "      <th>X63</th>\n",
       "      <th>X64</th>\n",
       "    </tr>\n",
       "  </thead>\n",
       "  <tbody>\n",
       "    <tr>\n",
       "      <th>0</th>\n",
       "      <td>0.522627</td>\n",
       "      <td>-0.311684</td>\n",
       "      <td>0.829192</td>\n",
       "      <td>-0.096194</td>\n",
       "      <td>0.182464</td>\n",
       "      <td>0.383317</td>\n",
       "      <td>0.583319</td>\n",
       "      <td>-0.176593</td>\n",
       "      <td>-0.400216</td>\n",
       "      <td>0.323680</td>\n",
       "      <td>...</td>\n",
       "      <td>-0.123291</td>\n",
       "      <td>0.696376</td>\n",
       "      <td>0.216126</td>\n",
       "      <td>-0.634323</td>\n",
       "      <td>-0.196975</td>\n",
       "      <td>0.229694</td>\n",
       "      <td>-0.736475</td>\n",
       "      <td>-0.026150</td>\n",
       "      <td>-0.328221</td>\n",
       "      <td>0.313354</td>\n",
       "    </tr>\n",
       "    <tr>\n",
       "      <th>1</th>\n",
       "      <td>0.129639</td>\n",
       "      <td>-0.954380</td>\n",
       "      <td>1.418270</td>\n",
       "      <td>0.262836</td>\n",
       "      <td>0.218982</td>\n",
       "      <td>0.759864</td>\n",
       "      <td>0.111092</td>\n",
       "      <td>0.205148</td>\n",
       "      <td>-0.653436</td>\n",
       "      <td>0.685617</td>\n",
       "      <td>...</td>\n",
       "      <td>0.560674</td>\n",
       "      <td>-0.102354</td>\n",
       "      <td>0.000956</td>\n",
       "      <td>0.096224</td>\n",
       "      <td>-0.196975</td>\n",
       "      <td>-0.063707</td>\n",
       "      <td>-0.235442</td>\n",
       "      <td>-0.375717</td>\n",
       "      <td>-0.027125</td>\n",
       "      <td>0.048760</td>\n",
       "    </tr>\n",
       "    <tr>\n",
       "      <th>2</th>\n",
       "      <td>0.433609</td>\n",
       "      <td>0.508924</td>\n",
       "      <td>0.069467</td>\n",
       "      <td>-0.191080</td>\n",
       "      <td>-0.396290</td>\n",
       "      <td>0.166956</td>\n",
       "      <td>0.395877</td>\n",
       "      <td>-0.287862</td>\n",
       "      <td>-0.399758</td>\n",
       "      <td>-0.252346</td>\n",
       "      <td>...</td>\n",
       "      <td>-0.124663</td>\n",
       "      <td>1.901589</td>\n",
       "      <td>0.839832</td>\n",
       "      <td>-1.736327</td>\n",
       "      <td>-0.196975</td>\n",
       "      <td>-0.102236</td>\n",
       "      <td>-0.261525</td>\n",
       "      <td>0.419228</td>\n",
       "      <td>-0.410622</td>\n",
       "      <td>3.885103</td>\n",
       "    </tr>\n",
       "    <tr>\n",
       "      <th>3</th>\n",
       "      <td>0.112159</td>\n",
       "      <td>-0.127052</td>\n",
       "      <td>0.090001</td>\n",
       "      <td>-0.168121</td>\n",
       "      <td>-0.035739</td>\n",
       "      <td>0.195653</td>\n",
       "      <td>0.092700</td>\n",
       "      <td>-0.214823</td>\n",
       "      <td>-0.767034</td>\n",
       "      <td>0.194075</td>\n",
       "      <td>...</td>\n",
       "      <td>0.043574</td>\n",
       "      <td>0.096452</td>\n",
       "      <td>0.002368</td>\n",
       "      <td>0.035187</td>\n",
       "      <td>0.224945</td>\n",
       "      <td>-0.099209</td>\n",
       "      <td>0.073325</td>\n",
       "      <td>-0.046450</td>\n",
       "      <td>-0.321279</td>\n",
       "      <td>-0.239218</td>\n",
       "    </tr>\n",
       "    <tr>\n",
       "      <th>4</th>\n",
       "      <td>-0.034600</td>\n",
       "      <td>0.567931</td>\n",
       "      <td>-0.782535</td>\n",
       "      <td>-0.285176</td>\n",
       "      <td>-0.077310</td>\n",
       "      <td>0.079375</td>\n",
       "      <td>-0.062333</td>\n",
       "      <td>-0.292166</td>\n",
       "      <td>-0.850446</td>\n",
       "      <td>-0.293814</td>\n",
       "      <td>...</td>\n",
       "      <td>-0.869534</td>\n",
       "      <td>0.602315</td>\n",
       "      <td>-0.415636</td>\n",
       "      <td>-0.547059</td>\n",
       "      <td>4.547139</td>\n",
       "      <td>-0.029536</td>\n",
       "      <td>0.079932</td>\n",
       "      <td>0.133663</td>\n",
       "      <td>-0.369410</td>\n",
       "      <td>-0.247388</td>\n",
       "    </tr>\n",
       "  </tbody>\n",
       "</table>\n",
       "<p>5 rows × 63 columns</p>\n",
       "</div>"
      ],
      "text/plain": [
       "         X1        X2        X3        X4        X5        X6        X7  \\\n",
       "0  0.522627 -0.311684  0.829192 -0.096194  0.182464  0.383317  0.583319   \n",
       "1  0.129639 -0.954380  1.418270  0.262836  0.218982  0.759864  0.111092   \n",
       "2  0.433609  0.508924  0.069467 -0.191080 -0.396290  0.166956  0.395877   \n",
       "3  0.112159 -0.127052  0.090001 -0.168121 -0.035739  0.195653  0.092700   \n",
       "4 -0.034600  0.567931 -0.782535 -0.285176 -0.077310  0.079375 -0.062333   \n",
       "\n",
       "         X8        X9       X10  ...       X55       X56       X57       X58  \\\n",
       "0 -0.176593 -0.400216  0.323680  ... -0.123291  0.696376  0.216126 -0.634323   \n",
       "1  0.205148 -0.653436  0.685617  ...  0.560674 -0.102354  0.000956  0.096224   \n",
       "2 -0.287862 -0.399758 -0.252346  ... -0.124663  1.901589  0.839832 -1.736327   \n",
       "3 -0.214823 -0.767034  0.194075  ...  0.043574  0.096452  0.002368  0.035187   \n",
       "4 -0.292166 -0.850446 -0.293814  ... -0.869534  0.602315 -0.415636 -0.547059   \n",
       "\n",
       "        X59       X60       X61       X62       X63       X64  \n",
       "0 -0.196975  0.229694 -0.736475 -0.026150 -0.328221  0.313354  \n",
       "1 -0.196975 -0.063707 -0.235442 -0.375717 -0.027125  0.048760  \n",
       "2 -0.196975 -0.102236 -0.261525  0.419228 -0.410622  3.885103  \n",
       "3  0.224945 -0.099209  0.073325 -0.046450 -0.321279 -0.239218  \n",
       "4  4.547139 -0.029536  0.079932  0.133663 -0.369410 -0.247388  \n",
       "\n",
       "[5 rows x 63 columns]"
      ]
     },
     "execution_count": 38,
     "metadata": {},
     "output_type": "execute_result"
    }
   ],
   "source": [
    "X_train_scale.head()"
   ]
  },
  {
   "cell_type": "markdown",
   "metadata": {},
   "source": [
    "## Applying PCA to achieve dimensionality reduction\n",
    "\n",
    "As discussed in the above section, some features are highly correlated with each other and this will affect the performance of several models. Since I do not want to drop any other feature, `Principal Component Analysis` will be applied before training some of our models."
   ]
  },
  {
   "cell_type": "code",
   "execution_count": 39,
   "metadata": {},
   "outputs": [],
   "source": [
    "from sklearn.decomposition import PCA"
   ]
  },
  {
   "cell_type": "code",
   "execution_count": 40,
   "metadata": {},
   "outputs": [
    {
     "data": {
      "image/png": "[encoded data removed]",
      "text/plain": [
       "<Figure size 1260x420 with 2 Axes>"
      ]
     },
     "metadata": {},
     "output_type": "display_data"
    }
   ],
   "source": [
    "pca = PCA().fit(X_train_scale)\n",
    "\n",
    "fig, axes = plt.subplots(nrows=1, ncols=2, figsize=(18, 6), dpi=70, facecolor='w', edgecolor='k')\n",
    "ax0, ax1 = axes.flatten()\n",
    "\n",
    "sns.set('talk', palette='colorblind')\n",
    "\n",
    "font = {'family' : 'normal',\n",
    "        'weight' : 'normal',\n",
    "        'size'   : 12}\n",
    "\n",
    "plt.rc('font', **font)\n",
    "\n",
    "ax0.plot(np.cumsum(pca.explained_variance_ratio_), marker='.')\n",
    "ax0.set_xlabel('# of components')\n",
    "ax0.set_ylabel('Cumulative explained variance');\n",
    "\n",
    "ax1.bar(range(X_train_scale.shape[1]),pca.explained_variance_)\n",
    "ax1.set_xlabel('# of components')\n",
    "ax1.set_ylabel('Explained variance for each component');\n",
    "\n",
    "plt.tight_layout()\n",
    "plt.show();"
   ]
  },
  {
   "cell_type": "code",
   "execution_count": 41,
   "metadata": {},
   "outputs": [
    {
     "name": "stdout",
     "output_type": "stream",
     "text": [
      "To capture 95% of variance we need 33 synthetic features.\n"
     ]
    }
   ],
   "source": [
    "variance_goal_pct = 95\n",
    "features_for_goal= np.size(np.cumsum(pca.explained_variance_ratio_)>0.95) - np.count_nonzero(np.cumsum(pca.explained_variance_ratio_)>0.95)\n",
    "print(\"To capture {f:d}% of variance we need {d:d} synthetic features.\".format(f=variance_goal_pct, d=features_for_goal))"
   ]
  },
  {
   "cell_type": "markdown",
   "metadata": {},
   "source": [
    "According to the figure and analysis, we need 33 components to capture 95% of the variance."
   ]
  },
  {
   "cell_type": "code",
   "execution_count": 42,
   "metadata": {},
   "outputs": [],
   "source": [
    "pca_95 = PCA(n_components = features_for_goal)\n",
    "X_train_pca = pd.DataFrame(pca_95.fit_transform(X_train_scale)).add_prefix(\"component_\")"
   ]
  },
  {
   "cell_type": "code",
   "execution_count": 43,
   "metadata": {},
   "outputs": [
    {
     "data": {
      "text/html": [
       "<div>\n",
       "<style scoped>\n",
       "    .dataframe tbody tr th:only-of-type {\n",
       "        vertical-align: middle;\n",
       "    }\n",
       "\n",
       "    .dataframe tbody tr th {\n",
       "        vertical-align: top;\n",
       "    }\n",
       "\n",
       "    .dataframe thead th {\n",
       "        text-align: right;\n",
       "    }\n",
       "</style>\n",
       "<table border=\"1\" class=\"dataframe\">\n",
       "  <thead>\n",
       "    <tr style=\"text-align: right;\">\n",
       "      <th></th>\n",
       "      <th>component_0</th>\n",
       "      <th>component_1</th>\n",
       "      <th>component_2</th>\n",
       "      <th>component_3</th>\n",
       "      <th>component_4</th>\n",
       "      <th>component_5</th>\n",
       "      <th>component_6</th>\n",
       "      <th>component_7</th>\n",
       "      <th>component_8</th>\n",
       "      <th>component_9</th>\n",
       "      <th>...</th>\n",
       "      <th>component_23</th>\n",
       "      <th>component_24</th>\n",
       "      <th>component_25</th>\n",
       "      <th>component_26</th>\n",
       "      <th>component_27</th>\n",
       "      <th>component_28</th>\n",
       "      <th>component_29</th>\n",
       "      <th>component_30</th>\n",
       "      <th>component_31</th>\n",
       "      <th>component_32</th>\n",
       "    </tr>\n",
       "  </thead>\n",
       "  <tbody>\n",
       "    <tr>\n",
       "      <th>0</th>\n",
       "      <td>-2.324395</td>\n",
       "      <td>-0.723026</td>\n",
       "      <td>0.093080</td>\n",
       "      <td>-0.621080</td>\n",
       "      <td>0.989587</td>\n",
       "      <td>2.116950</td>\n",
       "      <td>-0.461838</td>\n",
       "      <td>-0.027343</td>\n",
       "      <td>-0.854475</td>\n",
       "      <td>-0.809899</td>\n",
       "      <td>...</td>\n",
       "      <td>0.469656</td>\n",
       "      <td>-0.385310</td>\n",
       "      <td>0.275125</td>\n",
       "      <td>-0.066770</td>\n",
       "      <td>0.706971</td>\n",
       "      <td>-0.991250</td>\n",
       "      <td>-0.220253</td>\n",
       "      <td>0.413410</td>\n",
       "      <td>0.603439</td>\n",
       "      <td>-0.161676</td>\n",
       "    </tr>\n",
       "    <tr>\n",
       "      <th>1</th>\n",
       "      <td>-1.958782</td>\n",
       "      <td>0.911333</td>\n",
       "      <td>0.646129</td>\n",
       "      <td>-1.752832</td>\n",
       "      <td>-0.163980</td>\n",
       "      <td>0.643190</td>\n",
       "      <td>-0.275030</td>\n",
       "      <td>0.070119</td>\n",
       "      <td>0.945317</td>\n",
       "      <td>0.244593</td>\n",
       "      <td>...</td>\n",
       "      <td>-0.281712</td>\n",
       "      <td>-0.187291</td>\n",
       "      <td>-0.118768</td>\n",
       "      <td>-0.127642</td>\n",
       "      <td>0.167331</td>\n",
       "      <td>0.183559</td>\n",
       "      <td>0.170402</td>\n",
       "      <td>-0.039624</td>\n",
       "      <td>0.222154</td>\n",
       "      <td>-0.148505</td>\n",
       "    </tr>\n",
       "    <tr>\n",
       "      <th>2</th>\n",
       "      <td>-0.732432</td>\n",
       "      <td>-0.856653</td>\n",
       "      <td>0.062305</td>\n",
       "      <td>0.275720</td>\n",
       "      <td>1.847404</td>\n",
       "      <td>3.567368</td>\n",
       "      <td>-3.639407</td>\n",
       "      <td>0.557155</td>\n",
       "      <td>-0.092389</td>\n",
       "      <td>-0.214554</td>\n",
       "      <td>...</td>\n",
       "      <td>1.374148</td>\n",
       "      <td>1.085434</td>\n",
       "      <td>-0.224904</td>\n",
       "      <td>0.004410</td>\n",
       "      <td>-1.590917</td>\n",
       "      <td>-0.993482</td>\n",
       "      <td>-0.439319</td>\n",
       "      <td>-0.051429</td>\n",
       "      <td>0.305443</td>\n",
       "      <td>1.261397</td>\n",
       "    </tr>\n",
       "    <tr>\n",
       "      <th>3</th>\n",
       "      <td>-0.406411</td>\n",
       "      <td>-0.963567</td>\n",
       "      <td>0.726635</td>\n",
       "      <td>-0.797901</td>\n",
       "      <td>0.604869</td>\n",
       "      <td>-0.497023</td>\n",
       "      <td>0.004191</td>\n",
       "      <td>-0.041911</td>\n",
       "      <td>0.484317</td>\n",
       "      <td>0.484451</td>\n",
       "      <td>...</td>\n",
       "      <td>0.096756</td>\n",
       "      <td>0.289875</td>\n",
       "      <td>0.060974</td>\n",
       "      <td>0.236202</td>\n",
       "      <td>-0.204050</td>\n",
       "      <td>0.233513</td>\n",
       "      <td>0.181632</td>\n",
       "      <td>-0.112233</td>\n",
       "      <td>0.049514</td>\n",
       "      <td>-0.054244</td>\n",
       "    </tr>\n",
       "    <tr>\n",
       "      <th>4</th>\n",
       "      <td>0.577242</td>\n",
       "      <td>-1.325831</td>\n",
       "      <td>-0.061955</td>\n",
       "      <td>-0.302100</td>\n",
       "      <td>0.203062</td>\n",
       "      <td>-0.844602</td>\n",
       "      <td>0.212413</td>\n",
       "      <td>0.291204</td>\n",
       "      <td>1.364701</td>\n",
       "      <td>0.868280</td>\n",
       "      <td>...</td>\n",
       "      <td>-0.299006</td>\n",
       "      <td>2.354235</td>\n",
       "      <td>0.744432</td>\n",
       "      <td>-0.547584</td>\n",
       "      <td>0.104734</td>\n",
       "      <td>-0.176946</td>\n",
       "      <td>0.167939</td>\n",
       "      <td>0.231203</td>\n",
       "      <td>-0.083406</td>\n",
       "      <td>0.074079</td>\n",
       "    </tr>\n",
       "  </tbody>\n",
       "</table>\n",
       "<p>5 rows × 33 columns</p>\n",
       "</div>"
      ],
      "text/plain": [
       "   component_0  component_1  component_2  component_3  component_4  \\\n",
       "0    -2.324395    -0.723026     0.093080    -0.621080     0.989587   \n",
       "1    -1.958782     0.911333     0.646129    -1.752832    -0.163980   \n",
       "2    -0.732432    -0.856653     0.062305     0.275720     1.847404   \n",
       "3    -0.406411    -0.963567     0.726635    -0.797901     0.604869   \n",
       "4     0.577242    -1.325831    -0.061955    -0.302100     0.203062   \n",
       "\n",
       "   component_5  component_6  component_7  component_8  component_9  ...  \\\n",
       "0     2.116950    -0.461838    -0.027343    -0.854475    -0.809899  ...   \n",
       "1     0.643190    -0.275030     0.070119     0.945317     0.244593  ...   \n",
       "2     3.567368    -3.639407     0.557155    -0.092389    -0.214554  ...   \n",
       "3    -0.497023     0.004191    -0.041911     0.484317     0.484451  ...   \n",
       "4    -0.844602     0.212413     0.291204     1.364701     0.868280  ...   \n",
       "\n",
       "   component_23  component_24  component_25  component_26  component_27  \\\n",
       "0      0.469656     -0.385310      0.275125     -0.066770      0.706971   \n",
       "1     -0.281712     -0.187291     -0.118768     -0.127642      0.167331   \n",
       "2      1.374148      1.085434     -0.224904      0.004410     -1.590917   \n",
       "3      0.096756      0.289875      0.060974      0.236202     -0.204050   \n",
       "4     -0.299006      2.354235      0.744432     -0.547584      0.104734   \n",
       "\n",
       "   component_28  component_29  component_30  component_31  component_32  \n",
       "0     -0.991250     -0.220253      0.413410      0.603439     -0.161676  \n",
       "1      0.183559      0.170402     -0.039624      0.222154     -0.148505  \n",
       "2     -0.993482     -0.439319     -0.051429      0.305443      1.261397  \n",
       "3      0.233513      0.181632     -0.112233      0.049514     -0.054244  \n",
       "4     -0.176946      0.167939      0.231203     -0.083406      0.074079  \n",
       "\n",
       "[5 rows x 33 columns]"
      ]
     },
     "execution_count": 43,
     "metadata": {},
     "output_type": "execute_result"
    }
   ],
   "source": [
    "X_train_pca.head()"
   ]
  },
  {
   "cell_type": "markdown",
   "metadata": {},
   "source": [
    "## Implementing the same transformation process on test set\n",
    "Before training our models, I would like to do the same transformation and preprocessing to the test set"
   ]
  },
  {
   "cell_type": "code",
   "execution_count": 44,
   "metadata": {},
   "outputs": [],
   "source": [
    "X_test = X_test.apply(pd.to_numeric,errors='coerce')\n",
    "X_test.drop('X37',axis=1,inplace=True)\n",
    "X_test = pd.DataFrame(imputer.fit_transform(X_test), columns = X_test.columns)\n",
    "# deal with outliers\n",
    "X_test = trans_outliers_to_nan(X_test)\n",
    "X_test = pd.DataFrame(imputer.fit_transform(X_test), columns = X_test.columns)\n",
    "\n",
    "# scaling and PCA for models that are sensitive to high correlation and scales such as Logistic Regression \n",
    "X_test_scale = pd.DataFrame(scaler.fit_transform(X_test), columns = X_test.columns)\n",
    "X_test_pca = pd.DataFrame(pca_95.fit_transform(X_test)).add_prefix(\"component_\")"
   ]
  },
  {
   "cell_type": "code",
   "execution_count": 45,
   "metadata": {},
   "outputs": [
    {
     "data": {
      "text/html": [
       "<div>\n",
       "<style scoped>\n",
       "    .dataframe tbody tr th:only-of-type {\n",
       "        vertical-align: middle;\n",
       "    }\n",
       "\n",
       "    .dataframe tbody tr th {\n",
       "        vertical-align: top;\n",
       "    }\n",
       "\n",
       "    .dataframe thead th {\n",
       "        text-align: right;\n",
       "    }\n",
       "</style>\n",
       "<table border=\"1\" class=\"dataframe\">\n",
       "  <thead>\n",
       "    <tr style=\"text-align: right;\">\n",
       "      <th></th>\n",
       "      <th>component_0</th>\n",
       "      <th>component_1</th>\n",
       "      <th>component_2</th>\n",
       "      <th>component_3</th>\n",
       "      <th>component_4</th>\n",
       "      <th>component_5</th>\n",
       "      <th>component_6</th>\n",
       "      <th>component_7</th>\n",
       "      <th>component_8</th>\n",
       "      <th>component_9</th>\n",
       "      <th>...</th>\n",
       "      <th>component_23</th>\n",
       "      <th>component_24</th>\n",
       "      <th>component_25</th>\n",
       "      <th>component_26</th>\n",
       "      <th>component_27</th>\n",
       "      <th>component_28</th>\n",
       "      <th>component_29</th>\n",
       "      <th>component_30</th>\n",
       "      <th>component_31</th>\n",
       "      <th>component_32</th>\n",
       "    </tr>\n",
       "  </thead>\n",
       "  <tbody>\n",
       "    <tr>\n",
       "      <th>0</th>\n",
       "      <td>-5914.214296</td>\n",
       "      <td>-909.913340</td>\n",
       "      <td>-102.954676</td>\n",
       "      <td>-12.647074</td>\n",
       "      <td>-71.449719</td>\n",
       "      <td>-4.512801</td>\n",
       "      <td>-19.201632</td>\n",
       "      <td>56.429751</td>\n",
       "      <td>28.954669</td>\n",
       "      <td>11.823696</td>\n",
       "      <td>...</td>\n",
       "      <td>0.772334</td>\n",
       "      <td>-0.354355</td>\n",
       "      <td>0.883552</td>\n",
       "      <td>0.312014</td>\n",
       "      <td>-1.172089</td>\n",
       "      <td>1.528368</td>\n",
       "      <td>-0.757849</td>\n",
       "      <td>-0.301639</td>\n",
       "      <td>0.058819</td>\n",
       "      <td>-0.079633</td>\n",
       "    </tr>\n",
       "    <tr>\n",
       "      <th>1</th>\n",
       "      <td>-5190.051279</td>\n",
       "      <td>-2426.744810</td>\n",
       "      <td>-44.290752</td>\n",
       "      <td>-15.631549</td>\n",
       "      <td>-42.117850</td>\n",
       "      <td>-16.833121</td>\n",
       "      <td>-16.104049</td>\n",
       "      <td>27.758683</td>\n",
       "      <td>6.740608</td>\n",
       "      <td>23.440190</td>\n",
       "      <td>...</td>\n",
       "      <td>-0.211543</td>\n",
       "      <td>-0.192381</td>\n",
       "      <td>-0.168114</td>\n",
       "      <td>0.076581</td>\n",
       "      <td>-0.178168</td>\n",
       "      <td>-0.159878</td>\n",
       "      <td>-0.056340</td>\n",
       "      <td>0.188208</td>\n",
       "      <td>-0.229968</td>\n",
       "      <td>0.530593</td>\n",
       "    </tr>\n",
       "    <tr>\n",
       "      <th>2</th>\n",
       "      <td>-6798.119681</td>\n",
       "      <td>10317.264186</td>\n",
       "      <td>-28.226559</td>\n",
       "      <td>-15.506646</td>\n",
       "      <td>-110.130039</td>\n",
       "      <td>90.346274</td>\n",
       "      <td>-4.443375</td>\n",
       "      <td>103.113092</td>\n",
       "      <td>18.896511</td>\n",
       "      <td>-16.627958</td>\n",
       "      <td>...</td>\n",
       "      <td>-0.056977</td>\n",
       "      <td>-0.001066</td>\n",
       "      <td>-0.000440</td>\n",
       "      <td>1.143862</td>\n",
       "      <td>0.325273</td>\n",
       "      <td>0.124838</td>\n",
       "      <td>0.330780</td>\n",
       "      <td>-0.084954</td>\n",
       "      <td>-0.125818</td>\n",
       "      <td>0.127634</td>\n",
       "    </tr>\n",
       "    <tr>\n",
       "      <th>3</th>\n",
       "      <td>-3766.853194</td>\n",
       "      <td>-435.908397</td>\n",
       "      <td>1.161924</td>\n",
       "      <td>-16.725453</td>\n",
       "      <td>-28.527303</td>\n",
       "      <td>-18.544085</td>\n",
       "      <td>-21.408721</td>\n",
       "      <td>17.699702</td>\n",
       "      <td>-8.479063</td>\n",
       "      <td>13.783748</td>\n",
       "      <td>...</td>\n",
       "      <td>0.386128</td>\n",
       "      <td>-0.142452</td>\n",
       "      <td>0.544194</td>\n",
       "      <td>-0.311874</td>\n",
       "      <td>-0.872290</td>\n",
       "      <td>0.286170</td>\n",
       "      <td>-0.209111</td>\n",
       "      <td>0.330292</td>\n",
       "      <td>0.391319</td>\n",
       "      <td>-0.302998</td>\n",
       "    </tr>\n",
       "    <tr>\n",
       "      <th>4</th>\n",
       "      <td>4978.007134</td>\n",
       "      <td>178.398672</td>\n",
       "      <td>-96.386745</td>\n",
       "      <td>-29.958944</td>\n",
       "      <td>28.006767</td>\n",
       "      <td>-49.131228</td>\n",
       "      <td>-21.627061</td>\n",
       "      <td>-85.804119</td>\n",
       "      <td>47.449479</td>\n",
       "      <td>-22.931044</td>\n",
       "      <td>...</td>\n",
       "      <td>-1.172074</td>\n",
       "      <td>0.807388</td>\n",
       "      <td>0.211787</td>\n",
       "      <td>-0.161414</td>\n",
       "      <td>0.221048</td>\n",
       "      <td>0.121497</td>\n",
       "      <td>-0.732749</td>\n",
       "      <td>0.302953</td>\n",
       "      <td>0.132348</td>\n",
       "      <td>-0.503075</td>\n",
       "    </tr>\n",
       "  </tbody>\n",
       "</table>\n",
       "<p>5 rows × 33 columns</p>\n",
       "</div>"
      ],
      "text/plain": [
       "   component_0   component_1  component_2  component_3  component_4  \\\n",
       "0 -5914.214296   -909.913340  -102.954676   -12.647074   -71.449719   \n",
       "1 -5190.051279  -2426.744810   -44.290752   -15.631549   -42.117850   \n",
       "2 -6798.119681  10317.264186   -28.226559   -15.506646  -110.130039   \n",
       "3 -3766.853194   -435.908397     1.161924   -16.725453   -28.527303   \n",
       "4  4978.007134    178.398672   -96.386745   -29.958944    28.006767   \n",
       "\n",
       "   component_5  component_6  component_7  component_8  component_9  ...  \\\n",
       "0    -4.512801   -19.201632    56.429751    28.954669    11.823696  ...   \n",
       "1   -16.833121   -16.104049    27.758683     6.740608    23.440190  ...   \n",
       "2    90.346274    -4.443375   103.113092    18.896511   -16.627958  ...   \n",
       "3   -18.544085   -21.408721    17.699702    -8.479063    13.783748  ...   \n",
       "4   -49.131228   -21.627061   -85.804119    47.449479   -22.931044  ...   \n",
       "\n",
       "   component_23  component_24  component_25  component_26  component_27  \\\n",
       "0      0.772334     -0.354355      0.883552      0.312014     -1.172089   \n",
       "1     -0.211543     -0.192381     -0.168114      0.076581     -0.178168   \n",
       "2     -0.056977     -0.001066     -0.000440      1.143862      0.325273   \n",
       "3      0.386128     -0.142452      0.544194     -0.311874     -0.872290   \n",
       "4     -1.172074      0.807388      0.211787     -0.161414      0.221048   \n",
       "\n",
       "   component_28  component_29  component_30  component_31  component_32  \n",
       "0      1.528368     -0.757849     -0.301639      0.058819     -0.079633  \n",
       "1     -0.159878     -0.056340      0.188208     -0.229968      0.530593  \n",
       "2      0.124838      0.330780     -0.084954     -0.125818      0.127634  \n",
       "3      0.286170     -0.209111      0.330292      0.391319     -0.302998  \n",
       "4      0.121497     -0.732749      0.302953      0.132348     -0.503075  \n",
       "\n",
       "[5 rows x 33 columns]"
      ]
     },
     "execution_count": 45,
     "metadata": {},
     "output_type": "execute_result"
    }
   ],
   "source": [
    "X_test_pca.head()"
   ]
  },
  {
   "cell_type": "markdown",
   "metadata": {},
   "source": [
    "# Train Models\n",
    "\n",
    "In this section, I will include several other popular classification models and then compare their performance based on the performance metrics that we have already set. \n",
    "\n",
    "Note: Here I only train and fit these models without specially setting any hyperparameters since there will be a `Fine Tune` section that mainly focuses on adjusting hyperparameters to observe the performance after this section."
   ]
  },
  {
   "cell_type": "markdown",
   "metadata": {
    "tags": []
   },
   "source": [
    "## Baseline model: dummy classifier\n",
    "A baseline model is a 'naive' model that I will start off, which might be used to be compared with more complex models and then get the model that I endeavor to create.\n",
    "\n",
    "Here I use a model that always predicts the class that occurs the most frequent (which is 'Not go Bankrupt' -> 0 here) as the baseline model."
   ]
  },
  {
   "cell_type": "code",
   "execution_count": 46,
   "metadata": {},
   "outputs": [
    {
     "name": "stdout",
     "output_type": "stream",
     "text": [
      "\tBaseline model (Most Frequent) : In-Sample Accuracy: 50.0%, Out-of-Sample Accuracy: 91.7%, Recall: 0.0%, Precision: 0.0%\n"
     ]
    }
   ],
   "source": [
    "dummy = DummyClassifier(strategy='most_frequent').fit(X_train,y_train)\n",
    "dummy_in_sample = dummy.predict(X_train)\n",
    "dummy_pred = dummy.predict(X_test)\n",
    "\n",
    "name='Baseline model (Most Frequent)'\n",
    "score_in_sample = accuracy_score(y_train, dummy_in_sample)\n",
    "score_out_of_sample = accuracy_score(y_test,dummy_pred)\n",
    "recall = recall_score(y_test, dummy_pred, pos_label=1, average=\"binary\")\n",
    "precision = precision_score(y_test, dummy_pred, pos_label=1, average=\"binary\")\n",
    "print('\\t{m:s} : In-Sample Accuracy: {a:3.1%}, Out-of-Sample Accuracy: {b:3.1%}, Recall: {r:3.1%}, Precision: {p:3.1%}'.format(m=name,\n",
    "                                                                                                                               a=score_in_sample, \n",
    "                                                                                                                               b=score_out_of_sample,\n",
    "                                                                                                                               r=recall,\n",
    "                                                                                                                               p=precision))                                                           "
   ]
  },
  {
   "cell_type": "markdown",
   "metadata": {},
   "source": [
    "In this model, since we predict everything to be the class '0', the number of true positive is 0, which leads to zero recall (which we value the most) and precision rate. \n",
    "\n",
    "Meanwhile, the accuracy score for this dummy model is almost 92%, which seems to suggest that even the dummy model is good enough. However, our dataset is proved to be very imbalanced, the accuracy score is not a good performance metric in our context since we will get a high accuracy if we predict all the results as the majority class.\n",
    "\n",
    "Therefore, we need more complex model to reduce false negatives (i.e. get higher recall rates) for this classification problem."
   ]
  },
  {
   "cell_type": "markdown",
   "metadata": {},
   "source": [
    "## Selected Models\n",
    "Since the baseline model is displayed, I am going to apply six popular classification models to find the model that stands out based on the performance metrics that I have set."
   ]
  },
  {
   "cell_type": "code",
   "execution_count": 47,
   "metadata": {},
   "outputs": [],
   "source": [
    "# models that are sensitive to scales\n",
    "logistic_clf = LogisticRegression(random_state= 42)\n",
    "svc = SVC(random_state= 42)\n",
    "\n",
    "# models that are not sensitive to scales\n",
    "nb_clf = GaussianNB()\n",
    "rf_clf = RandomForestClassifier(random_state= 42)\n",
    "gbm = GradientBoostingClassifier(random_state=42)\n",
    "ada = AdaBoostClassifier(random_state= 42)"
   ]
  },
  {
   "cell_type": "markdown",
   "metadata": {},
   "source": [
    "These models are basically divided into two groups:\n",
    "- Models that are sensitive to scales and high correlation: Logistic Regression and Support Vector Machine\n",
    "- Models that are insensitive: Naive Bayes, Random Forest, Gradient Boosting and ADA Boost\n",
    "\n",
    "This first group will be trained and tested by the data that have been scaled and applied PCA while the second group will be trained and tested by the dataset without doing these since scaling is a monotonic transformation and most of these models are tree-based algorithms which do not need normalization."
   ]
  },
  {
   "cell_type": "markdown",
   "metadata": {},
   "source": [
    "## Fit the models"
   ]
  },
  {
   "cell_type": "markdown",
   "metadata": {},
   "source": [
    "### The 1st group: Logistic Regression Classifier & Support Vector Classifier"
   ]
  },
  {
   "cell_type": "code",
   "execution_count": 48,
   "metadata": {},
   "outputs": [],
   "source": [
    "models_scale = [logistic_clf, svc]\n",
    "\n",
    "def metrics_scale(model, X_train, y_train, X_test, y_test):\n",
    "    metrics = {} \n",
    "    model.fit(X_train, y_train)  \n",
    "    y_pred = model.predict(X_test) \n",
    "    \n",
    "    metrics['Accuracy_test'] = accuracy_score(y_test , y_pred)  \n",
    "    \n",
    "    metrics['Recall_test'] = recall_score(y_test , y_pred)\n",
    "    \n",
    "    metrics['Precision_test'] = precision_score(y_test , y_pred)\n",
    "    \n",
    "    metrics['F1_Score_test'] = f1_score(y_test , y_pred)\n",
    "    \n",
    "    return metrics\n",
    "\n",
    "# Initializing a dictionary to store training and testing data\n",
    "model_scale_performance = {} \n",
    "for model in models_scale: \n",
    "    model_name = model.__class__.__name__\n",
    "    model_scale_performance[model_name]  = {}\n",
    "    model_scale_performance[model_name] = metrics_scale(model, X_train_pca, y_train, X_test_pca, y_test)"
   ]
  },
  {
   "cell_type": "code",
   "execution_count": 49,
   "metadata": {},
   "outputs": [
    {
     "data": {
      "text/html": [
       "<div>\n",
       "<style scoped>\n",
       "    .dataframe tbody tr th:only-of-type {\n",
       "        vertical-align: middle;\n",
       "    }\n",
       "\n",
       "    .dataframe tbody tr th {\n",
       "        vertical-align: top;\n",
       "    }\n",
       "\n",
       "    .dataframe thead th {\n",
       "        text-align: right;\n",
       "    }\n",
       "</style>\n",
       "<table border=\"1\" class=\"dataframe\">\n",
       "  <thead>\n",
       "    <tr style=\"text-align: right;\">\n",
       "      <th></th>\n",
       "      <th>LogisticRegression</th>\n",
       "      <th>SVC</th>\n",
       "    </tr>\n",
       "  </thead>\n",
       "  <tbody>\n",
       "    <tr>\n",
       "      <th>Accuracy_test</th>\n",
       "      <td>0.639004</td>\n",
       "      <td>0.917012</td>\n",
       "    </tr>\n",
       "    <tr>\n",
       "      <th>Recall_test</th>\n",
       "      <td>0.075000</td>\n",
       "      <td>0.000000</td>\n",
       "    </tr>\n",
       "    <tr>\n",
       "      <th>Precision_test</th>\n",
       "      <td>0.021429</td>\n",
       "      <td>0.000000</td>\n",
       "    </tr>\n",
       "    <tr>\n",
       "      <th>F1_Score_test</th>\n",
       "      <td>0.033333</td>\n",
       "      <td>0.000000</td>\n",
       "    </tr>\n",
       "  </tbody>\n",
       "</table>\n",
       "</div>"
      ],
      "text/plain": [
       "                LogisticRegression       SVC\n",
       "Accuracy_test             0.639004  0.917012\n",
       "Recall_test               0.075000  0.000000\n",
       "Precision_test            0.021429  0.000000\n",
       "F1_Score_test             0.033333  0.000000"
      ]
     },
     "execution_count": 49,
     "metadata": {},
     "output_type": "execute_result"
    }
   ],
   "source": [
    "pd.DataFrame(model_scale_performance)"
   ]
  },
  {
   "cell_type": "markdown",
   "metadata": {},
   "source": [
    "### The second group: Naive Bayes, Random Forest, Gradient Boosting & Ada Boost"
   ]
  },
  {
   "cell_type": "code",
   "execution_count": 50,
   "metadata": {},
   "outputs": [],
   "source": [
    "models = [nb_clf, rf_clf, gbm, ada]\n",
    "\n",
    "def metrics(model, X_train, y_train, X_test, y_test):\n",
    "    metrics = {} \n",
    "    model.fit(X_train, y_train)  \n",
    "    y_pred = model.predict(X_test) \n",
    "    \n",
    "    metrics['Accuracy_test'] = accuracy_score(y_test , y_pred)  \n",
    "    \n",
    "    metrics['Recall_test'] = recall_score(y_test , y_pred)\n",
    "    \n",
    "    metrics['Precision_test'] = precision_score(y_test , y_pred)\n",
    "    \n",
    "    metrics['F1_Score_test'] = f1_score(y_test , y_pred)\n",
    "    \n",
    "    return metrics\n",
    "\n",
    "model_performance = {} # Initializing a dictionary to store training and testing data\n",
    "for model in models: # these are our objects that we instantiated above. We loop through them\n",
    "    model_name = model.__class__.__name__\n",
    "    model_performance[model_name]  = {}\n",
    "    model_performance[model_name] = metrics(model, X_train, y_train, X_test, y_test)"
   ]
  },
  {
   "cell_type": "code",
   "execution_count": 51,
   "metadata": {},
   "outputs": [
    {
     "data": {
      "text/html": [
       "<div>\n",
       "<style scoped>\n",
       "    .dataframe tbody tr th:only-of-type {\n",
       "        vertical-align: middle;\n",
       "    }\n",
       "\n",
       "    .dataframe tbody tr th {\n",
       "        vertical-align: top;\n",
       "    }\n",
       "\n",
       "    .dataframe thead th {\n",
       "        text-align: right;\n",
       "    }\n",
       "</style>\n",
       "<table border=\"1\" class=\"dataframe\">\n",
       "  <thead>\n",
       "    <tr style=\"text-align: right;\">\n",
       "      <th></th>\n",
       "      <th>GaussianNB</th>\n",
       "      <th>RandomForestClassifier</th>\n",
       "      <th>GradientBoostingClassifier</th>\n",
       "      <th>AdaBoostClassifier</th>\n",
       "    </tr>\n",
       "  </thead>\n",
       "  <tbody>\n",
       "    <tr>\n",
       "      <th>Accuracy_test</th>\n",
       "      <td>0.350622</td>\n",
       "      <td>0.923237</td>\n",
       "      <td>0.904564</td>\n",
       "      <td>0.856846</td>\n",
       "    </tr>\n",
       "    <tr>\n",
       "      <th>Recall_test</th>\n",
       "      <td>0.900000</td>\n",
       "      <td>0.475000</td>\n",
       "      <td>0.725000</td>\n",
       "      <td>0.625000</td>\n",
       "    </tr>\n",
       "    <tr>\n",
       "      <th>Precision_test</th>\n",
       "      <td>0.104348</td>\n",
       "      <td>0.542857</td>\n",
       "      <td>0.453125</td>\n",
       "      <td>0.316456</td>\n",
       "    </tr>\n",
       "    <tr>\n",
       "      <th>F1_Score_test</th>\n",
       "      <td>0.187013</td>\n",
       "      <td>0.506667</td>\n",
       "      <td>0.557692</td>\n",
       "      <td>0.420168</td>\n",
       "    </tr>\n",
       "  </tbody>\n",
       "</table>\n",
       "</div>"
      ],
      "text/plain": [
       "                GaussianNB  RandomForestClassifier  \\\n",
       "Accuracy_test     0.350622                0.923237   \n",
       "Recall_test       0.900000                0.475000   \n",
       "Precision_test    0.104348                0.542857   \n",
       "F1_Score_test     0.187013                0.506667   \n",
       "\n",
       "                GradientBoostingClassifier  AdaBoostClassifier  \n",
       "Accuracy_test                     0.904564            0.856846  \n",
       "Recall_test                       0.725000            0.625000  \n",
       "Precision_test                    0.453125            0.316456  \n",
       "F1_Score_test                     0.557692            0.420168  "
      ]
     },
     "execution_count": 51,
     "metadata": {},
     "output_type": "execute_result"
    }
   ],
   "source": [
    "pd.DataFrame(model_performance)"
   ]
  },
  {
   "cell_type": "markdown",
   "metadata": {},
   "source": [
    "Based on the results of the performance metrics, it could be suggested that:\n",
    "- For the 1st group:\n",
    "    - For Logistic Regression, the accuracy score seems to be okay, but all other metrics are not good, this might because it predicts most cases as 'negative' so that its accuracy becomes good since our data is imbalanced.\n",
    "    \n",
    "    - For SVM, the accuracy score is high, but all other metrics are zero and the reason might be that it predicts almost all results as 'negative'. Since we value the 'recall' rate the most, this model is obviously not the one I expect.\n",
    "- For the 2nd group:\n",
    "    - Naive Bayes: it seems to have a quite high recall rate, however, its accuracy and precision are very poor. I guess it might predict most cases as 'positive', although it reduces the 'false negative' rate as we want, it raises the 'false positive' rate too much.\n",
    "    \n",
    "    - Random Forest: this model seems to be predictive in this classification problem since all the metrics are high. However, we value the 'recall' the most, so I would like to fine tune this model in further sections to see whether it could become the one that I endeavor to create.\n",
    "    \n",
    "    - Gradient Boosting: its performance metrics are even better than 'random forest', it has a higher recall score as we want and in the meantime, the accuracy score and precision are also high.\n",
    "    \n",
    "    - Ada Boost: this model also performs good, but it is kind of being similar to the last one since they are both boosting models. Therefore, I would like to focus more on Gradient Boosting model rather than this one since the former one has better performance in every aspect.\n",
    "    \n",
    "In the next subsection, I would like to do error analysis to check some of my guesses about these models here and gain more insights."
   ]
  },
  {
   "cell_type": "markdown",
   "metadata": {},
   "source": [
    "## Error Analysis\n",
    "\n",
    "In the part, `Confusion Matrix` of all the models will be presented to analyze the deep reasons of their performance (whether perform well or not). In order to be clearer, I use two different colormaps to display the two groups, respectively."
   ]
  },
  {
   "cell_type": "code",
   "execution_count": 52,
   "metadata": {},
   "outputs": [
    {
     "name": "stderr",
     "output_type": "stream",
     "text": [
      "findfont: Font family ['normal'] not found. Falling back to DejaVu Sans.\n",
      "findfont: Font family ['normal'] not found. Falling back to DejaVu Sans.\n",
      "findfont: Font family ['normal'] not found. Falling back to DejaVu Sans.\n"
     ]
    },
    {
     "data": {
      "image/png": "[encoded data removed]",
      "text/plain": [
       "<Figure size 1296x864 with 12 Axes>"
      ]
     },
     "metadata": {},
     "output_type": "display_data"
    }
   ],
   "source": [
    "from sklearn.metrics import confusion_matrix\n",
    "\n",
    "# for the 1st group\n",
    "model_scale = [logistic_clf, svc]\n",
    "def confusion_scale(model,X_train,y_train,X_test,y_test):\n",
    "    model.fit(X_train, y_train)  # Training\n",
    "    y_pred = model.predict(X_test) # Predicts\n",
    "    cm = confusion_matrix(y_test, y_pred)\n",
    "    return cm\n",
    "\n",
    "model_scale_cm = {} # Initializing a dictionary to store training and testing data\n",
    "for model in models_scale: \n",
    "    model_name = model.__class__.__name__\n",
    "    model_scale_cm[model_name]  = {}\n",
    "    model_scale_cm[model_name] = confusion_scale(model, X_train_pca, y_train, X_test_pca, y_test)\n",
    "    \n",
    "    \n",
    "# for the 2nd group\n",
    "models = [nb_clf, rf_clf, gbm, ada]\n",
    "def confusion(model,X_train,y_train,X_test,y_test):\n",
    "    model.fit(X_train, y_train)  # Training\n",
    "    y_pred = model.predict(X_test) # Predicts\n",
    "    cm = confusion_matrix(y_test,y_pred)\n",
    "    return cm\n",
    "\n",
    "model_cm = {} # Initializing a dictionary to store training and testing data\n",
    "for model in models: \n",
    "    model_name = model.__class__.__name__\n",
    "    model_cm[model_name]  = {}\n",
    "    model_cm[model_name] = confusion(model, X_train, y_train, X_test, y_test)\n",
    "    \n",
    "    \n",
    "# plot all the confusion matrices\n",
    "f, ((ax1, ax2, ax4),(ax3, ax5, ax6)) = plt.subplots(2,3, figsize=(18,12))\n",
    "\n",
    "lgr = model_scale_cm['LogisticRegression']\n",
    "names =['True Negative','False Positive','False Negative','True Positive']\n",
    "counts = ['{0:0.0f}'.format(value) for value in lgr.flatten()]\n",
    "percent = ['{0:.2%}'.format(value) for value in lgr.flatten()/np.sum(lgr)]\n",
    "show = [f\"{v1}\\n{v2}\\n{v3}\" for v1, v2, v3 in zip(names, counts, percent)]\n",
    "show = np.asarray(show).reshape(2,2)\n",
    "sns.heatmap(lgr,annot=show,fmt='',cmap='Pastel1',annot_kws={'size':16},ax=ax1);\n",
    "ax1.set_title('Logistic Regression')\n",
    "\n",
    "svc_cm = model_scale_cm['SVC']\n",
    "names =['True Negative','False Positive','False Negative','True Positive']\n",
    "counts = ['{0:0.0f}'.format(value) for value in svc_cm.flatten()]\n",
    "percent = ['{0:.2%}'.format(value) for value in svc_cm.flatten()/np.sum(svc_cm)]\n",
    "show = [f\"{v1}\\n{v2}\\n{v3}\" for v1, v2, v3 in zip(names, counts, percent)]\n",
    "show = np.asarray(show).reshape(2,2)\n",
    "sns.heatmap(svc_cm,annot=show,fmt='',cmap='Pastel1',annot_kws={'size':16},ax=ax2);\n",
    "ax2.set_title('SVC')\n",
    "\n",
    "rfc = model_cm['RandomForestClassifier']\n",
    "names =['True Negative','False Positive','False Negative','True Positive']\n",
    "counts = ['{0:0.0f}'.format(value) for value in rfc.flatten()]\n",
    "percent = ['{0:.2%}'.format(value) for value in rfc.flatten()/np.sum(rfc)]\n",
    "show = [f\"{v1}\\n{v2}\\n{v3}\" for v1, v2, v3 in zip(names, counts, percent)]\n",
    "show = np.asarray(show).reshape(2,2)\n",
    "sns.heatmap(rfc,annot=show,fmt='',cmap='Pastel2',annot_kws={'size':16},ax=ax3);\n",
    "ax3.set_title('Random Forest')\n",
    "\n",
    "gnb = model_cm['GaussianNB']\n",
    "names =['True Negative','False Positive','False Negative','True Positive']\n",
    "counts = ['{0:0.0f}'.format(value) for value in gnb.flatten()]\n",
    "percent = ['{0:.2%}'.format(value) for value in gnb.flatten()/np.sum(gnb)]\n",
    "show = [f\"{v1}\\n{v2}\\n{v3}\" for v1, v2, v3 in zip(names, counts, percent)]\n",
    "show = np.asarray(show).reshape(2,2)\n",
    "sns.heatmap(gnb,annot=show,fmt='',cmap='Pastel2',annot_kws={'size':16},ax=ax4);\n",
    "ax4.set_title('Naive Bayes')\n",
    "\n",
    "gbm = model_cm['GradientBoostingClassifier']\n",
    "names =['True Negative','False Positive','False Negative','True Positive']\n",
    "counts = ['{0:0.0f}'.format(value) for value in gbm.flatten()]\n",
    "percent = ['{0:.2%}'.format(value) for value in gbm.flatten()/np.sum(gbm)]\n",
    "show = [f\"{v1}\\n{v2}\\n{v3}\" for v1, v2, v3 in zip(names, counts, percent)]\n",
    "show = np.asarray(show).reshape(2,2)\n",
    "sns.heatmap(gbm,annot=show,fmt='',cmap='Pastel2',annot_kws={'size':16},ax=ax5);\n",
    "ax5.set_title('Gradient Boosting')\n",
    "\n",
    "ada = model_cm['AdaBoostClassifier']\n",
    "names =['True Negative','False Positive','False Negative','True Positive']\n",
    "counts = ['{0:0.0f}'.format(value) for value in ada.flatten()]\n",
    "percent = ['{0:.2%}'.format(value) for value in ada.flatten()/np.sum(ada)]\n",
    "show = [f\"{v1}\\n{v2}\\n{v3}\" for v1, v2, v3 in zip(names, counts, percent)]\n",
    "show = np.asarray(show).reshape(2,2)\n",
    "sns.heatmap(ada,annot=show,fmt='',cmap='Pastel2',annot_kws={'size':16},ax=ax6);\n",
    "ax6.set_title('Ada Boost')\n",
    "\n",
    "plt.show();"
   ]
  },
  {
   "cell_type": "markdown",
   "metadata": {},
   "source": [
    "According to the above confusion matrices,\n",
    "- As we expect, Logistic Regression predicts the most cases as 'negative'. Meanwhile, this model is not good at predicting 'true positive' since it always predicts companies that do not go bankrupt as 'bankrupt' whereas predicts companies that truly go bankrupt as 'not bankrupt'. As a result, all of its metrics are not good.\n",
    "- The SVM also meets our guess since it predicts all companies as 'not bankrupt' so that it has a very high accuracy but very poor performance on any other metrics.\n",
    "- For Naive Bayes, it has high recall rate because it sacrifices the accuracy and precision score by predicting most of the companies as 'bankrupt' to get a higher true positive rate and a lower false negative rate. However, the false positive rate is too high, although we do not value it the most, this model is obviously not the one that we want.\n",
    "- As for Random Forest model, it does good in every aspect except for in the tradeoff between recall and precision, we lean towards the 'recall' rate, but it has a higher precision rate.\n",
    "- As for Gradient Boosting model, it does well for every metrics: higher true positive rate, lower false negative and false positive rates as we expect.\n",
    "- Ada Boost is similar to Gradient Boosting, but it does worse in every section than the later one.\n",
    "\n",
    "At the beginning of this project, I create a new metric based on the description of this classification problem, since we could assume it is 5 times worse to fail to identify a company that will go bankrupt than it is to fail to identify a company that won't go bankrupt, the false negative is 5 times worse than the false positive. Thus, I want to also compare these models with this new metric here to better explain my choice for models that I want to do fine tuning in the next section:\n",
    "\n",
    "$$ Logistic\\ Regression = 5 * 7.68 + 1 * 28.42 = 66.82$$\n",
    "\n",
    "$$ Support\\ Vector = 5 * 8.30 + 1 * 0 = 41.5$$\n",
    "\n",
    "$$ Naive\\ Bayes = 5 * 0.83 + 1 * 64.11 = 68.26$$\n",
    "\n",
    "$$ Random\\ Forest = 5 * 4.36 + 1 * 3.12 = 24.92$$\n",
    "\n",
    "$$ Gradient\\ Boosting = 5 * 2.28 + 1 * 7.26 = 18.66$$\n",
    "\n",
    "$$ Ada\\ Boost = 5 * 3.11 + 1 * 11.20 = 26.75$$\n",
    "\n",
    "This new metric takes our tradeoff between recall and precision into consideration. According to all the analysis above, I decide to drop three models with the following reason:\n",
    "- Support Vector Machine: although its new metric is not so bad, its recall and precision are all zero, which is not ideal.\n",
    "- Naive Bayes: although it has a high recall rate, as our new metric shows, it does the worst work in the tradeoff between recall and precision.\n",
    "- Ada Boost: this model is good, but it is not as good as its similar model: Gradient Boosting, so I decide to drop this one and do further research on Gradient Boosting.\n",
    "\n",
    "As a result, the following three models are selected to do further fine tuning with hyperparameters:\n",
    "- Logistic Regression: I would like to see whether it can be adjusted into a better model.\n",
    "- Random Forest: if it can be tuned to have a preference on recall rather than precision, it might become the model that I expect.\n",
    "- Gradient Boosting: it performs the best in this context based on the new metric since here we want to minimize false negatives and in the meantime, do not raise too many false positives. It will be ideal if it could become better after tuning. "
   ]
  },
  {
   "cell_type": "markdown",
   "metadata": {},
   "source": [
    "# Fine tune using Grid Search\n",
    "\n",
    "In this section, `Grid Search` will be applied to tune the hyperparameters for the three models that I select. Based on our objective, the `scoring` parameter in the `GridSearchCV` will be set as `recall` since we want to minimize the false negatives."
   ]
  },
  {
   "cell_type": "code",
   "execution_count": 53,
   "metadata": {},
   "outputs": [],
   "source": [
    "from sklearn.model_selection import GridSearchCV"
   ]
  },
  {
   "cell_type": "markdown",
   "metadata": {},
   "source": [
    "## Logistic Regression"
   ]
  },
  {
   "cell_type": "code",
   "execution_count": 54,
   "metadata": {},
   "outputs": [
    {
     "data": {
      "text/plain": [
       "GridSearchCV(cv=5, estimator=LogisticRegression(max_iter=1000), n_jobs=-1,\n",
       "             param_grid={'C': [0.01, 0.1, 1, 2, 10, 100],\n",
       "                         'penalty': ['l1', 'l2'], 'random_state': [42],\n",
       "                         'solver': ['newton-cg', 'lbfgs', 'liblinear']},\n",
       "             return_train_score=True, scoring='recall')"
      ]
     },
     "execution_count": 54,
     "metadata": {},
     "output_type": "execute_result"
    },
    {
     "name": "stdout",
     "output_type": "stream",
     "text": [
      "{'C': 10, 'penalty': 'l2', 'random_state': 42, 'solver': 'newton-cg'}\n",
      "\tLogistic Regression(Fine Tuned) : Out-of-Sample Accuracy: 63.9%, Recall: 7.5%, Precision: 2.1%, F-1 score: 3.3%\n"
     ]
    }
   ],
   "source": [
    "param_grid = {'C': [0.01, 0.1, 1, 2, 10, 100], 'penalty': ['l1', 'l2'],'solver':['newton-cg', 'lbfgs', 'liblinear'],'random_state':[42]}\n",
    "logistic_clf = LogisticRegression(max_iter=1000)\n",
    "grid_search = GridSearchCV(logistic_clf, param_grid, scoring='recall',cv=5, return_train_score=True, n_jobs=-1)\n",
    "grid_search.fit(X_train_pca, y_train.values.ravel())\n",
    "\n",
    "lr = grid_search.best_estimator_\n",
    "name='Logistic Regression(Fine Tuned)'\n",
    "score_out_of_sample = accuracy_score(y_test,lr.predict(X_test_pca))\n",
    "recall = recall_score(y_test, lr.predict(X_test_pca), pos_label=1, average=\"binary\")\n",
    "precision = precision_score(y_test, lr.predict(X_test_pca), pos_label=1, average=\"binary\")\n",
    "f1 = f1_score(y_test , lr.predict(X_test_pca))\n",
    "print(grid_search.best_params_)\n",
    "print('\\t{m:s} : Out-of-Sample Accuracy: {b:3.1%}, Recall: {r:3.1%}, Precision: {p:3.1%}, F-1 score: {f:3.1%}'.format(m=name,\n",
    "                                                                                                                      b=score_out_of_sample,\n",
    "                                                                                                                      r=recall,\n",
    "                                                                                                                      p=precision,\n",
    "                                                                                                                      f=f1)) "
   ]
  },
  {
   "cell_type": "code",
   "execution_count": 55,
   "metadata": {},
   "outputs": [
    {
     "data": {
      "image/png": "[encoded data removed]",
      "text/plain": [
       "<Figure size 432x288 with 2 Axes>"
      ]
     },
     "metadata": {},
     "output_type": "display_data"
    }
   ],
   "source": [
    "cm = confusion_matrix(y_test,lr.predict(X_test_pca))\n",
    "lbs =['True Negative','False Positive','False Negative','True Positive']\n",
    "counts = ['{0:0.0f}'.format(value) for value in cm.flatten()]\n",
    "percent = ['{0:.2%}'.format(value) for value in cm.flatten()/np.sum(cm)]\n",
    "show = [f\"{v1}\\n{v2}\\n{v3}\" for v1, v2, v3 in zip(names, counts, percent)]\n",
    "show = np.asarray(show).reshape(2,2)\n",
    "sns.heatmap(cm,annot=show,fmt='',cmap='Pastel1',annot_kws={'size':16});"
   ]
  },
  {
   "cell_type": "markdown",
   "metadata": {},
   "source": [
    "The new metric for this tuned Logistic Regression is:\n",
    "\n",
    "$$ Tuned\\ Logistic = 5 * 7.68 + 1 * 28.42 = 66.82 $$\n",
    "\n",
    "All of the metrics are the same as the one before tuning and it is far worse than we expect. Therefore, I will drop this model."
   ]
  },
  {
   "cell_type": "markdown",
   "metadata": {},
   "source": [
    "## Random Forest"
   ]
  },
  {
   "cell_type": "code",
   "execution_count": 56,
   "metadata": {},
   "outputs": [
    {
     "data": {
      "text/plain": [
       "GridSearchCV(cv=5, estimator=RandomForestClassifier(), n_jobs=-1,\n",
       "             param_grid={'max_depth': [5, 8, 15, 25, 30],\n",
       "                         'min_samples_leaf': [1, 2, 3, 4],\n",
       "                         'min_samples_split': [2, 5, 10, 15, 100],\n",
       "                         'n_estimators': [10, 50, 100]},\n",
       "             return_train_score=True, scoring='recall')"
      ]
     },
     "execution_count": 56,
     "metadata": {},
     "output_type": "execute_result"
    },
    {
     "name": "stdout",
     "output_type": "stream",
     "text": [
      "{'max_depth': 30, 'min_samples_leaf': 1, 'min_samples_split': 2, 'n_estimators': 100}\n",
      "\tRandom Forest(Fine Tuned) : Out-of-Sample Accuracy: 92.9%, Recall: 47.5%, Precision: 59.4%, F-1 score: 52.8%\n"
     ]
    }
   ],
   "source": [
    "param_grid={'n_estimators': [10, 50, 100], 'max_depth': [5, 8, 15, 25, 30],'min_samples_split': [2, 5, 10, 15, 100],'min_samples_leaf': [1,2,3,4]}\n",
    "rf_clf = RandomForestClassifier()\n",
    "grid_search = GridSearchCV(rf_clf, param_grid, scoring='recall',cv=5, return_train_score=True, n_jobs=-1)\n",
    "grid_search.fit(X_train, y_train.values.ravel())\n",
    "\n",
    "rf = grid_search.best_estimator_\n",
    "name='Random Forest(Fine Tuned)'\n",
    "score_out_of_sample = accuracy_score(y_test,rf.predict(X_test))\n",
    "recall = recall_score(y_test, rf.predict(X_test), pos_label=1, average=\"binary\")\n",
    "precision = precision_score(y_test, rf.predict(X_test), pos_label=1, average=\"binary\")\n",
    "f1 = f1_score(y_test , rf.predict(X_test))\n",
    "print(grid_search.best_params_)\n",
    "print('\\t{m:s} : Out-of-Sample Accuracy: {b:3.1%}, Recall: {r:3.1%}, Precision: {p:3.1%}, F-1 score: {f:3.1%}'.format(m=name,\n",
    "                                                                                                                      b=score_out_of_sample,\n",
    "                                                                                                                      r=recall,\n",
    "                                                                                                                      p=precision,\n",
    "                                                                                                                      f=f1)) "
   ]
  },
  {
   "cell_type": "code",
   "execution_count": 57,
   "metadata": {},
   "outputs": [
    {
     "data": {
      "image/png": "[encoded data removed]",
      "text/plain": [
       "<Figure size 432x288 with 2 Axes>"
      ]
     },
     "metadata": {},
     "output_type": "display_data"
    }
   ],
   "source": [
    "cm = confusion_matrix(y_test,rf.predict(X_test))\n",
    "lbs =['True Negative','False Positive','False Negative','True Positive']\n",
    "counts = ['{0:0.0f}'.format(value) for value in cm.flatten()]\n",
    "percent = ['{0:.2%}'.format(value) for value in cm.flatten()/np.sum(cm)]\n",
    "show = [f\"{v1}\\n{v2}\\n{v3}\" for v1, v2, v3 in zip(names, counts, percent)]\n",
    "show = np.asarray(show).reshape(2,2)\n",
    "sns.heatmap(cm,annot=show,fmt='',cmap='Pastel1',annot_kws={'size':16});"
   ]
  },
  {
   "cell_type": "markdown",
   "metadata": {},
   "source": [
    "The new metric for this tuned Random Forest model is:\n",
    "\n",
    "$$ Tuned\\ Random\\ Forest = 5 * 4.36 + 1 * 3.53 = 25.33$$\n",
    "\n",
    "In this context, Random Forest performs even worse after tuning since both of its recall rate and new metric become lower even though the accuracy and precision are higher. In addition, since the original Random Forest model before tuning is not as good as Gradient Boosting model in the balancing of recall and precision since we prefer higher recall rather than precision. Therefore, I will also drop this model."
   ]
  },
  {
   "cell_type": "markdown",
   "metadata": {},
   "source": [
    "## Gradient Boosting"
   ]
  },
  {
   "cell_type": "code",
   "execution_count": 58,
   "metadata": {},
   "outputs": [
    {
     "data": {
      "text/plain": [
       "GradientBoostingClassifier(random_state=42)"
      ]
     },
     "execution_count": 58,
     "metadata": {},
     "output_type": "execute_result"
    },
    {
     "data": {
      "text/plain": [
       "GridSearchCV(cv=5, estimator=GradientBoostingClassifier(random_state=42),\n",
       "             n_jobs=-1,\n",
       "             param_grid={'max_depth': [2, 3, 4, 5],\n",
       "                         'n_estimators': [10, 40, 70, 100]},\n",
       "             scoring='recall')"
      ]
     },
     "execution_count": 58,
     "metadata": {},
     "output_type": "execute_result"
    },
    {
     "data": {
      "text/plain": [
       "GridSearchCV(cv=5,\n",
       "             estimator=GradientBoostingClassifier(max_depth=5, random_state=42),\n",
       "             n_jobs=-1,\n",
       "             param_grid={'min_samples_leaf': [10, 30, 50],\n",
       "                         'min_samples_split': [10, 30, 50]},\n",
       "             scoring='recall')"
      ]
     },
     "execution_count": 58,
     "metadata": {},
     "output_type": "execute_result"
    },
    {
     "data": {
      "text/plain": [
       "GridSearchCV(cv=5,\n",
       "             estimator=GradientBoostingClassifier(max_depth=5,\n",
       "                                                  min_samples_leaf=10,\n",
       "                                                  min_samples_split=30,\n",
       "                                                  random_state=42),\n",
       "             n_jobs=-1,\n",
       "             param_grid=[{'learning_rate': [0.1], 'n_estimators': [100]},\n",
       "                         {'learning_rate': [0.5], 'n_estimators': [20]},\n",
       "                         {'learning_rate': [0.01], 'n_estimators': [1000]}],\n",
       "             scoring='recall')"
      ]
     },
     "execution_count": 58,
     "metadata": {},
     "output_type": "execute_result"
    },
    {
     "name": "stdout",
     "output_type": "stream",
     "text": [
      "Best score:  0.9842718599176162\n"
     ]
    }
   ],
   "source": [
    "# the score_method for Grid Search is 'recall', which we value the most\n",
    "score_method = 'recall'\n",
    "\n",
    "# the base/original gradient boosting model without specially set any hyperparameter\n",
    "gbm0 = GradientBoostingClassifier(random_state=42)\n",
    "gbm0.fit(X_train, y_train.values.ravel())\n",
    "\n",
    "# tune n_estimaters and max_depth\n",
    "param_trees = {'n_estimators': [i for i in range(10, 101, 30)],\n",
    "              'max_depth': [i for i in range(2,6,1)]}\n",
    "gsearch1 = GridSearchCV(estimator = gbm0, \n",
    "                        param_grid = param_trees, \n",
    "                        scoring=score_method,\n",
    "                        n_jobs=-1,\n",
    "                        cv=5\n",
    "                       )\n",
    "gsearch1.fit(X_train, y_train.values.ravel())\n",
    "\n",
    "# tune min_samples_split, min_samples_leaf based on the model that has tuned n_estimaters and max_depth\n",
    "param_tree2 = {'min_samples_split': [i for i in range(10,51,20)],\n",
    "              'min_samples_leaf': [i for i in range(10,51,20)]}\n",
    "gsearch2 = GridSearchCV(estimator = gsearch1.best_estimator_, \n",
    "                        param_grid = param_tree2, \n",
    "                        scoring=score_method,\n",
    "                        n_jobs=-1,\n",
    "                        cv=5)\n",
    "gsearch2.fit(X_train, y_train.values.ravel())\n",
    "\n",
    "# tune learning_rate paired with n_estimators\n",
    "# based on the best value of n_estimators tuned in gsearch1\n",
    "# and other hyperparameters that tuned in gsearch2\n",
    "n_estimator = gsearch1.best_params_['n_estimators']\n",
    "param_tree3 = [{'learning_rate': [0.1],\n",
    "              'n_estimators': [n_estimator]},\n",
    "              {'learning_rate': [0.1*5],\n",
    "              'n_estimators': [n_estimator//5]},\n",
    "              {'learning_rate': [0.1/10],\n",
    "              'n_estimators': [n_estimator*10]}]\n",
    "gsearch3 = GridSearchCV(estimator = gsearch2.best_estimator_, \n",
    "                        param_grid = param_tree3, \n",
    "                        scoring=score_method,\n",
    "                        n_jobs=-1,\n",
    "                        cv=5)\n",
    "gsearch3.fit(X_train, y_train.values.ravel())\n",
    "print('Best score: ', gsearch3.best_score_)                 \n",
    "\n",
    "# best estimator\n",
    "gbm_tuned = gsearch3.best_estimator_"
   ]
  },
  {
   "cell_type": "markdown",
   "metadata": {},
   "source": [
    "Here, `gbm_tuned` is the best model found by Grid Search after tuning several hyperparameters, now I would test its performance using our test set."
   ]
  },
  {
   "cell_type": "code",
   "execution_count": 59,
   "metadata": {},
   "outputs": [
    {
     "name": "stdout",
     "output_type": "stream",
     "text": [
      "\tgbm1 : Out-of-Sample Accuracy: 91.9%, Recall: 62.5%, Precision: 51.0%, F-1 score: 56.2%\n"
     ]
    }
   ],
   "source": [
    "gbm_tuned_pred = gbm_tuned.predict(X_test)\n",
    "name = 'gbm1'\n",
    "score_out_of_sample = accuracy_score(y_test,gbm_tuned_pred)\n",
    "recall = recall_score(y_test, gbm_tuned_pred, pos_label=1, average=\"binary\")\n",
    "precision = precision_score(y_test, gbm_tuned_pred, pos_label=1, average=\"binary\")\n",
    "f1 = f1_score(y_test, gbm_tuned_pred)\n",
    "print('\\t{m:s} : Out-of-Sample Accuracy: {b:3.1%}, Recall: {r:3.1%}, Precision: {p:3.1%}, F-1 score: {f:3.1%}'.format(m=name,\n",
    "                                                                                                                      b=score_out_of_sample,\n",
    "                                                                                                                      r=recall,\n",
    "                                                                                                                      p=precision,\n",
    "                                                                                                                      f=f1)) "
   ]
  },
  {
   "cell_type": "code",
   "execution_count": 60,
   "metadata": {},
   "outputs": [
    {
     "data": {
      "image/png": "[encoded data removed]",
      "text/plain": [
       "<Figure size 432x288 with 2 Axes>"
      ]
     },
     "metadata": {},
     "output_type": "display_data"
    }
   ],
   "source": [
    "cm = confusion_matrix(y_test,gbm_tuned_pred)\n",
    "lbs =['True Negative','False Positive','False Negative','True Positive']\n",
    "counts = ['{0:0.0f}'.format(value) for value in cm.flatten()]\n",
    "percent = ['{0:.2%}'.format(value) for value in cm.flatten()/np.sum(cm)]\n",
    "show = [f\"{v1}\\n{v2}\\n{v3}\" for v1, v2, v3 in zip(names, counts, percent)]\n",
    "show = np.asarray(show).reshape(2,2)\n",
    "sns.heatmap(cm,annot=show,fmt='',cmap='Pastel1',annot_kws={'size':16});"
   ]
  },
  {
   "cell_type": "markdown",
   "metadata": {},
   "source": [
    "The new metric for this tuned Gradient Boosting model is:\n",
    "\n",
    "$$ Tuned\\ Gradient\\ Boosting = 5 * 3.11 + 1 * 4.98 = 20.53$$\n",
    "\n",
    "We can see that after tuning, this model has higher accuracy score and precision score as well as a higher F-1 score while the recall rate becomes lower. If we are not in this context, this model might be better than the original Gradient Boosting model. However, in this classification model, we mainly focus on `minimizing false negatives` (i.e. higher recall), this tuned model raises all other metrics by reducing the recall rate, which is not something that I expect. This can also be detected through our new metric, which suggests that although many metrics become better, this model even becomes worse in this context since the new metric for the original model is just 18.66."
   ]
  },
  {
   "cell_type": "markdown",
   "metadata": {},
   "source": [
    "## Conclusion - Select the final Model"
   ]
  },
  {
   "cell_type": "markdown",
   "metadata": {},
   "source": [
    "According to the results of fine tune, we have the following findings:\n",
    "- Logistic Regression: after tuning, its performance is the same as the original one: poor accuracy, poor recall and precision  -> drop this model\n",
    "\n",
    "- Random Forest: after tuning: good accuracy and good precision, but worse recall score, which is not consistent with our aim: lower false negatives, higher recall -> drop this model\n",
    "\n",
    "- Gradient Boosting: after tuning: all the metrics except for the recall becomes better, but as the same reason for the Random Forest model, since we value the recall the most, we would not choose to scarifice recall score (from 72.5% to 62.5%) to increase other metrics. If we use this tuned model to deal with this classification problem, it might be more likely to predict companies that will go bankrupt as 'Not bankrupt', which is a serious problem.\n",
    "\n",
    "    Moreover, according to the new metric, the original model fits our objective better since when adding a five times penalty to false negatives, it has the best performance. Thus, although the original model has lower accuracy and precision score, it could satisfy our main requirement to predict companies that will go bankrupt as 'Bankrupt', which could minimize false negatives and have a higher recall without raising too many false positives (i.e. in the meantime of higher recall, also have a good precision score) \n",
    "    \n",
    "    -> this tuned model is good, but the original Gradient Boosting model is better fit for this classification problem.\n",
    "\n",
    "Therefore, we choose the `original Gradient Boosting model` (denoted as `gbm0`) as our final model, which has 90.5% accuracy, 72.5% recall (which we value the most) and 45.3% precision score."
   ]
  },
  {
   "cell_type": "markdown",
   "metadata": {},
   "source": [
    "# Submission - My Main Model\n",
    "\n",
    "- Implement the body of a subroutine `MyModel`\n",
    "    - That takes as argument a Pandas DataFrame \n",
    "        - Each row is an example on which to predict\n",
    "        - The features of the example are elements of the row\n",
    "    - Performs predictions on each example\n",
    "    - Returns an array or predictions with a one-to-one correspondence with the examples in the test set"
   ]
  },
  {
   "cell_type": "code",
   "execution_count": 61,
   "metadata": {},
   "outputs": [],
   "source": [
    "import pandas as pd\n",
    "import os\n",
    "\n",
    "def MyModel(X):\n",
    "    # It should create an array of predictions; we initialize it to the empty array for convenience\n",
    "    predictions = []\n",
    "    \n",
    "    # YOUR CODE GOES HERE\n",
    "    X = X.apply(pd.to_numeric,errors='coerce')\n",
    "    if 'Id' in X.columns:\n",
    "        X.set_index('Id', inplace = True)\n",
    "    X.drop('X37',axis=1,inplace=True)\n",
    "    \n",
    "    # dealing with missing value\n",
    "    X = pd.DataFrame(imputer.fit_transform(X), columns = X.columns)\n",
    "    # detect outliers and set them to NaN\n",
    "    X = trans_outliers_to_nan(X)\n",
    "    # impute the new missing values again\n",
    "    X = pd.DataFrame(imputer.fit_transform(X), columns = X.columns)\n",
    "    \n",
    "    predictions = gbm0.predict(X)\n",
    "    \n",
    "    return predictions"
   ]
  },
  {
   "cell_type": "markdown",
   "metadata": {},
   "source": [
    "# Check your work: predict and evaluate metrics on *your* test examples\n",
    "\n",
    "Although only the instructors have the correct labels for the holdout dataset, you may want\n",
    "to create your own test dataset on which to evaluate your out of sample metrics.\n",
    "\n",
    "If you choose to do so, you can evaluate your models using the same metrics that the instructors will use.\n",
    "\n",
    "- Test whether your implementation of `MyModel` works\n",
    "- See the metrics  your model produces"
   ]
  },
  {
   "cell_type": "code",
   "execution_count": 62,
   "metadata": {},
   "outputs": [
    {
     "name": "stdout",
     "output_type": "stream",
     "text": [
      "\tGradient Boosting Model Accuracy: 90.5%, Recall 72.5%, Precision 45.3%\n"
     ]
    }
   ],
   "source": [
    "name = \"Gradient Boosting Model\"\n",
    "y_test_pred = MyModel(X_test_original)\n",
    "\n",
    "accuracy_test = accuracy_score(y_test, y_test_pred)\n",
    "recall_test = recall_score(y_test, y_test_pred, pos_label=1, average=\"binary\")\n",
    "precision_test = precision_score(y_test, y_test_pred, pos_label=1, average=\"binary\")\n",
    "\n",
    "print(\"\\t{m:s} Accuracy: {a:3.1%}, Recall {r:3.1%}, Precision {p:3.1%}\".format(m=name,\n",
    "                                                                            a=accuracy_test,\n",
    "                                                                            r=recall_test,\n",
    "                                                                            p=precision_test\n",
    "                                                                            ))"
   ]
  },
  {
   "cell_type": "code",
   "execution_count": 63,
   "metadata": {},
   "outputs": [
    {
     "name": "stdout",
     "output_type": "stream",
     "text": [
      "My project is done!\n"
     ]
    }
   ],
   "source": [
    "print('My project is done!')"
   ]
  },
  {
   "cell_type": "markdown",
   "metadata": {},
   "source": [
    "### For Evaluation\n",
    "\n",
    "I call MyModel for the holdout data to get the predictions for the instuctors to evaluate."
   ]
  },
  {
   "cell_type": "code",
   "execution_count": 64,
   "metadata": {},
   "outputs": [
    {
     "data": {
      "text/plain": [
       "array([0, 1, 0, ..., 0, 0, 0])"
      ]
     },
     "execution_count": 64,
     "metadata": {},
     "output_type": "execute_result"
    }
   ],
   "source": [
    "y_hold_pred = MyModel(holdout_data)\n",
    "y_hold_pred"
   ]
  },
  {
   "cell_type": "markdown",
   "metadata": {},
   "source": [
    "## Submission guidelines\n",
    "\n",
    "Although your notebook may contain many models (e.g., due to your iterative development)\n",
    "we will only evaluate a single model.\n",
    "So choose one (explain why !) and do the following.\n",
    "\n",
    "- You will implement the body of a subroutine `MyModel`\n",
    "    - That takes as argument a Pandas DataFrame \n",
    "        - Each row is an example on which to predict\n",
    "        - The features of the example are elements of the row\n",
    "    - Performs predictions on each example\n",
    "    - Returns an array or predictions with a one-to-one correspondence with the examples in the test set\n",
    "    "
   ]
  },
  {
   "cell_type": "markdown",
   "metadata": {},
   "source": [
    "We will evaluate your model against the holdout data\n",
    "- By reading the holdout examples `X_hold` (as above)\n",
    "- Calling `y_hold_pred = MyModel(X_hold)` to get the predictions\n",
    "- Comparing the predicted values `y_hold_pred` against the true labels `y_hold` which are known only to the instructors\n",
    "\n",
    "See the following cell as an illustration"
   ]
  },
  {
   "cell_type": "raw",
   "metadata": {},
   "source": [
    "X_hold = pd.read_csv( os.path.join(DATA_DIR, \"holdout\", '5th_yr.csv') )\n",
    "\n",
    "# Predict using MyModel\n",
    "y_hold_pred = MyModel(X_hold)\n",
    "\n",
    "# Compute metrics\n",
    "# accuracy\n",
    "accuracy_hold = accuracy_score(y_hold, y_hold_pred)\n",
    "\n",
    "# recall_\n",
    "recall_hold = recall_score(y_hold, y_hold_pred, pos_label=1, average=\"binary\")\n",
    "\n",
    "# precision\n",
    "precision_hold = precision_score(y_hold,   y_hold_pred, pos_label=1, average=\"binary\")\n",
    "\n",
    "\n",
    "print(\"\\t{m:s} Accuracy: {a:3.1%}, Recall {r:3.1%}, Precision {p:3.1%}\".format(m=name,\n",
    "                                                                            a=accuracy_hold,\n",
    "                                                                            r=recall_hold,\n",
    "                                                                            p=precision_hold\n",
    "                                                                            )\n",
    "         )"
   ]
  },
  {
   "cell_type": "markdown",
   "metadata": {},
   "source": [
    "**Remember**\n",
    "\n",
    "The holdout data is in the same format as the one we used for training\n",
    "- Except that it has no attribute for the target\n",
    "- So you will need to perform all the transformations on the holdout data\n",
    "    - As you did on the training data\n",
    "    - Including turning the string representation of numbers into actual numeric data types\n",
    "\n",
    "All of this work *must* be performed within the body of the `MyModel` routine you will write\n",
    "\n",
    "We will grade you by comparing the predictions array you create to the answers known to us."
   ]
  },
  {
   "cell_type": "code",
   "execution_count": 65,
   "metadata": {},
   "outputs": [
    {
     "name": "stdout",
     "output_type": "stream",
     "text": [
      "Done!\n"
     ]
    }
   ],
   "source": [
    "print(\"Done!\")"
   ]
  }
 ],
 "metadata": {
  "kernelspec": {
   "display_name": "Python 3 (ipykernel)",
   "language": "python",
   "name": "python3"
  },
  "language_info": {
   "codemirror_mode": {
    "name": "ipython",
    "version": 3
   },
   "file_extension": ".py",
   "mimetype": "text/x-python",
   "name": "python",
   "nbconvert_exporter": "python",
   "pygments_lexer": "ipython3",
   "version": "3.9.7"
  },
  "toc": {
   "base_numbering": 1,
   "nav_menu": {},
   "number_sections": true,
   "sideBar": true,
   "skip_h1_title": false,
   "title_cell": "Table of Contents",
   "title_sidebar": "Contents",
   "toc_cell": false,
   "toc_position": {
    "height": "calc(100% - 180px)",
    "left": "10px",
    "top": "150px",
    "width": "370.594px"
   },
   "toc_section_display": true,
   "toc_window_display": true
  }
 },
 "nbformat": 4,
 "nbformat_minor": 4
}
